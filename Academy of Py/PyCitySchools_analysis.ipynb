{
 "cells": [
  {
   "cell_type": "markdown",
   "metadata": {},
   "source": [
    "# PyCity Schools Analysis\n",
    "\n",
    "* As a whole, schools with higher budgets, did not yield better test results. By contrast, schools with higher spending per student actually (\\$645-675) underperformed compared to schools with smaller budgets (<\\$585 per student).\n",
    "\n",
    "* As a whole, smaller and medium sized schools dramatically out-performed large sized schools on passing math performances (89-91% passing vs 67%).\n",
    "\n",
    "* As a whole, charter schools out-performed the public district schools across all metrics. However, more analysis will be required to glean if the effect is due to school practices or the fact that charter schools tend to serve smaller student populations per school. \n",
    "---"
   ]
  },
  {
   "cell_type": "markdown",
   "metadata": {},
   "source": [
    "### Note\n",
    "* Instructions have been included for each segment. You do not have to follow them exactly, but they are included to help you think through the steps."
   ]
  },
  {
   "cell_type": "code",
   "execution_count": 1,
   "metadata": {},
   "outputs": [],
   "source": [
    "# Dependencies and Setup\n",
    "import pandas as pd\n",
    "import numpy as np\n",
    "\n",
    "# File to Load (Remember to Change These)\n",
    "school_data_to_load = \"Resources/schools_complete.csv\"\n",
    "student_data_to_load = \"Resources/students_complete.csv\"\n",
    "\n",
    "# Read School and Student Data File and store into Pandas Data Frames\n",
    "school_data = pd.read_csv(school_data_to_load)\n",
    "student_data = pd.read_csv(student_data_to_load)\n",
    "\n",
    "# Combine the data into a single dataset\n",
    "school_data_complete = pd.merge(student_data, school_data, how=\"left\", on=[\"school_name\", \"school_name\"])\n",
    "\n",
    "# Using this to sort by school name so names are in same order when grouping by school\n",
    "school_data_complete.sort_values('school_name', inplace=True)\n",
    "school_data.sort_values('school_name', inplace=True)"
   ]
  },
  {
   "cell_type": "code",
   "execution_count": 2,
   "metadata": {},
   "outputs": [
    {
     "data": {
      "text/html": [
       "<div>\n",
       "<style scoped>\n",
       "    .dataframe tbody tr th:only-of-type {\n",
       "        vertical-align: middle;\n",
       "    }\n",
       "\n",
       "    .dataframe tbody tr th {\n",
       "        vertical-align: top;\n",
       "    }\n",
       "\n",
       "    .dataframe thead th {\n",
       "        text-align: right;\n",
       "    }\n",
       "</style>\n",
       "<table border=\"1\" class=\"dataframe\">\n",
       "  <thead>\n",
       "    <tr style=\"text-align: right;\">\n",
       "      <th></th>\n",
       "      <th>School ID</th>\n",
       "      <th>school_name</th>\n",
       "      <th>type</th>\n",
       "      <th>size</th>\n",
       "      <th>budget</th>\n",
       "    </tr>\n",
       "  </thead>\n",
       "  <tbody>\n",
       "    <tr>\n",
       "      <th>7</th>\n",
       "      <td>7</td>\n",
       "      <td>Bailey High School</td>\n",
       "      <td>District</td>\n",
       "      <td>4976</td>\n",
       "      <td>3124928</td>\n",
       "    </tr>\n",
       "    <tr>\n",
       "      <th>6</th>\n",
       "      <td>6</td>\n",
       "      <td>Cabrera High School</td>\n",
       "      <td>Charter</td>\n",
       "      <td>1858</td>\n",
       "      <td>1081356</td>\n",
       "    </tr>\n",
       "    <tr>\n",
       "      <th>1</th>\n",
       "      <td>1</td>\n",
       "      <td>Figueroa High School</td>\n",
       "      <td>District</td>\n",
       "      <td>2949</td>\n",
       "      <td>1884411</td>\n",
       "    </tr>\n",
       "    <tr>\n",
       "      <th>13</th>\n",
       "      <td>13</td>\n",
       "      <td>Ford High School</td>\n",
       "      <td>District</td>\n",
       "      <td>2739</td>\n",
       "      <td>1763916</td>\n",
       "    </tr>\n",
       "    <tr>\n",
       "      <th>4</th>\n",
       "      <td>4</td>\n",
       "      <td>Griffin High School</td>\n",
       "      <td>Charter</td>\n",
       "      <td>1468</td>\n",
       "      <td>917500</td>\n",
       "    </tr>\n",
       "  </tbody>\n",
       "</table>\n",
       "</div>"
      ],
      "text/plain": [
       "    School ID           school_name      type  size   budget\n",
       "7           7    Bailey High School  District  4976  3124928\n",
       "6           6   Cabrera High School   Charter  1858  1081356\n",
       "1           1  Figueroa High School  District  2949  1884411\n",
       "13         13      Ford High School  District  2739  1763916\n",
       "4           4   Griffin High School   Charter  1468   917500"
      ]
     },
     "execution_count": 2,
     "metadata": {},
     "output_type": "execute_result"
    }
   ],
   "source": [
    "school_data.head()"
   ]
  },
  {
   "cell_type": "code",
   "execution_count": 3,
   "metadata": {},
   "outputs": [
    {
     "data": {
      "text/html": [
       "<div>\n",
       "<style scoped>\n",
       "    .dataframe tbody tr th:only-of-type {\n",
       "        vertical-align: middle;\n",
       "    }\n",
       "\n",
       "    .dataframe tbody tr th {\n",
       "        vertical-align: top;\n",
       "    }\n",
       "\n",
       "    .dataframe thead th {\n",
       "        text-align: right;\n",
       "    }\n",
       "</style>\n",
       "<table border=\"1\" class=\"dataframe\">\n",
       "  <thead>\n",
       "    <tr style=\"text-align: right;\">\n",
       "      <th></th>\n",
       "      <th>Student ID</th>\n",
       "      <th>student_name</th>\n",
       "      <th>gender</th>\n",
       "      <th>grade</th>\n",
       "      <th>school_name</th>\n",
       "      <th>reading_score</th>\n",
       "      <th>math_score</th>\n",
       "      <th>School ID</th>\n",
       "      <th>type</th>\n",
       "      <th>size</th>\n",
       "      <th>budget</th>\n",
       "    </tr>\n",
       "  </thead>\n",
       "  <tbody>\n",
       "    <tr>\n",
       "      <th>19584</th>\n",
       "      <td>19584</td>\n",
       "      <td>Tammie Fox</td>\n",
       "      <td>F</td>\n",
       "      <td>11th</td>\n",
       "      <td>Bailey High School</td>\n",
       "      <td>82</td>\n",
       "      <td>92</td>\n",
       "      <td>7</td>\n",
       "      <td>District</td>\n",
       "      <td>4976</td>\n",
       "      <td>3124928</td>\n",
       "    </tr>\n",
       "    <tr>\n",
       "      <th>21193</th>\n",
       "      <td>21193</td>\n",
       "      <td>Jennifer Murray</td>\n",
       "      <td>F</td>\n",
       "      <td>9th</td>\n",
       "      <td>Bailey High School</td>\n",
       "      <td>88</td>\n",
       "      <td>89</td>\n",
       "      <td>7</td>\n",
       "      <td>District</td>\n",
       "      <td>4976</td>\n",
       "      <td>3124928</td>\n",
       "    </tr>\n",
       "    <tr>\n",
       "      <th>21192</th>\n",
       "      <td>21192</td>\n",
       "      <td>Lisa Pineda</td>\n",
       "      <td>F</td>\n",
       "      <td>9th</td>\n",
       "      <td>Bailey High School</td>\n",
       "      <td>86</td>\n",
       "      <td>67</td>\n",
       "      <td>7</td>\n",
       "      <td>District</td>\n",
       "      <td>4976</td>\n",
       "      <td>3124928</td>\n",
       "    </tr>\n",
       "    <tr>\n",
       "      <th>21191</th>\n",
       "      <td>21191</td>\n",
       "      <td>Cameron Miller</td>\n",
       "      <td>M</td>\n",
       "      <td>11th</td>\n",
       "      <td>Bailey High School</td>\n",
       "      <td>70</td>\n",
       "      <td>75</td>\n",
       "      <td>7</td>\n",
       "      <td>District</td>\n",
       "      <td>4976</td>\n",
       "      <td>3124928</td>\n",
       "    </tr>\n",
       "    <tr>\n",
       "      <th>21190</th>\n",
       "      <td>21190</td>\n",
       "      <td>Thomas Rasmussen</td>\n",
       "      <td>M</td>\n",
       "      <td>12th</td>\n",
       "      <td>Bailey High School</td>\n",
       "      <td>77</td>\n",
       "      <td>82</td>\n",
       "      <td>7</td>\n",
       "      <td>District</td>\n",
       "      <td>4976</td>\n",
       "      <td>3124928</td>\n",
       "    </tr>\n",
       "  </tbody>\n",
       "</table>\n",
       "</div>"
      ],
      "text/plain": [
       "       Student ID      student_name gender grade         school_name  \\\n",
       "19584       19584        Tammie Fox      F  11th  Bailey High School   \n",
       "21193       21193   Jennifer Murray      F   9th  Bailey High School   \n",
       "21192       21192       Lisa Pineda      F   9th  Bailey High School   \n",
       "21191       21191    Cameron Miller      M  11th  Bailey High School   \n",
       "21190       21190  Thomas Rasmussen      M  12th  Bailey High School   \n",
       "\n",
       "       reading_score  math_score  School ID      type  size   budget  \n",
       "19584             82          92          7  District  4976  3124928  \n",
       "21193             88          89          7  District  4976  3124928  \n",
       "21192             86          67          7  District  4976  3124928  \n",
       "21191             70          75          7  District  4976  3124928  \n",
       "21190             77          82          7  District  4976  3124928  "
      ]
     },
     "execution_count": 3,
     "metadata": {},
     "output_type": "execute_result"
    }
   ],
   "source": [
    "school_data_complete.head()"
   ]
  },
  {
   "cell_type": "markdown",
   "metadata": {},
   "source": [
    "## District Summary\n",
    "\n",
    "* Calculate the total number of schools\n",
    "\n",
    "* Calculate the total number of students\n",
    "\n",
    "* Calculate the total budget\n",
    "\n",
    "* Calculate the average math score \n",
    "\n",
    "* Calculate the average reading score\n",
    "\n",
    "* Calculate the overall passing rate (overall average score), i.e. (avg. math score + avg. reading score)/2\n",
    "\n",
    "* Calculate the percentage of students with a passing math score (70 or greater)\n",
    "\n",
    "* Calculate the percentage of students with a passing reading score (70 or greater)\n",
    "\n",
    "* Create a dataframe to hold the above results\n",
    "\n",
    "* Optional: give the displayed data cleaner formatting"
   ]
  },
  {
   "cell_type": "markdown",
   "metadata": {},
   "source": [
    "# Total Schools in District"
   ]
  },
  {
   "cell_type": "code",
   "execution_count": 4,
   "metadata": {},
   "outputs": [
    {
     "data": {
      "text/plain": [
       "15"
      ]
     },
     "execution_count": 4,
     "metadata": {},
     "output_type": "execute_result"
    }
   ],
   "source": [
    "total_schools = len(school_data['school_name'].unique())\n",
    "total_schools"
   ]
  },
  {
   "cell_type": "markdown",
   "metadata": {},
   "source": [
    "# Total Students in District"
   ]
  },
  {
   "cell_type": "code",
   "execution_count": 5,
   "metadata": {},
   "outputs": [
    {
     "data": {
      "text/plain": [
       "39170"
      ]
     },
     "execution_count": 5,
     "metadata": {},
     "output_type": "execute_result"
    }
   ],
   "source": [
    "total_students = len(student_data['Student ID'].unique())\n",
    "total_students"
   ]
  },
  {
   "cell_type": "markdown",
   "metadata": {},
   "source": [
    "# Total Budget in District"
   ]
  },
  {
   "cell_type": "code",
   "execution_count": 6,
   "metadata": {},
   "outputs": [
    {
     "data": {
      "text/plain": [
       "24649428"
      ]
     },
     "execution_count": 6,
     "metadata": {},
     "output_type": "execute_result"
    }
   ],
   "source": [
    "total_budget = school_data['budget'].sum()\n",
    "total_budget"
   ]
  },
  {
   "cell_type": "markdown",
   "metadata": {},
   "source": [
    "# Average Math Score for District"
   ]
  },
  {
   "cell_type": "code",
   "execution_count": 7,
   "metadata": {},
   "outputs": [
    {
     "data": {
      "text/plain": [
       "78.98537145774827"
      ]
     },
     "execution_count": 7,
     "metadata": {},
     "output_type": "execute_result"
    }
   ],
   "source": [
    "average_math_score = student_data['math_score'].mean()\n",
    "average_math_score"
   ]
  },
  {
   "cell_type": "markdown",
   "metadata": {},
   "source": [
    "# Average Reading Score for District"
   ]
  },
  {
   "cell_type": "code",
   "execution_count": 8,
   "metadata": {},
   "outputs": [
    {
     "data": {
      "text/plain": [
       "81.87784018381414"
      ]
     },
     "execution_count": 8,
     "metadata": {},
     "output_type": "execute_result"
    }
   ],
   "source": [
    "average_reading_score = student_data['reading_score'].mean()\n",
    "average_reading_score"
   ]
  },
  {
   "cell_type": "markdown",
   "metadata": {},
   "source": [
    "# Overall Passing by Students for District"
   ]
  },
  {
   "cell_type": "code",
   "execution_count": 9,
   "metadata": {},
   "outputs": [
    {
     "data": {
      "text/plain": [
       "80.43160582078121"
      ]
     },
     "execution_count": 9,
     "metadata": {},
     "output_type": "execute_result"
    }
   ],
   "source": [
    "overall_passing_rate = (average_math_score + average_reading_score) / 2\n",
    "overall_passing_rate"
   ]
  },
  {
   "cell_type": "markdown",
   "metadata": {
    "scrolled": true
   },
   "source": [
    "# Percent that Passed Math in District"
   ]
  },
  {
   "cell_type": "code",
   "execution_count": 10,
   "metadata": {},
   "outputs": [
    {
     "data": {
      "text/plain": [
       "74.9808526933878"
      ]
     },
     "execution_count": 10,
     "metadata": {},
     "output_type": "execute_result"
    }
   ],
   "source": [
    "# Create Dataframe containing only students with math scores that are 70 or above (considered passing) make markdown title\n",
    "students_passing_math = student_data[student_data['math_score'] >= 70]\n",
    "# Script for total number of students that are passing then convert it to percentage\n",
    "percent_students_passing_math = len(students_passing_math['math_score']) / total_students * 100\n",
    "percent_students_passing_math"
   ]
  },
  {
   "cell_type": "markdown",
   "metadata": {},
   "source": [
    "# Percent that passed Reading in District"
   ]
  },
  {
   "cell_type": "code",
   "execution_count": 11,
   "metadata": {},
   "outputs": [
    {
     "data": {
      "text/plain": [
       "85.80546336482001"
      ]
     },
     "execution_count": 11,
     "metadata": {},
     "output_type": "execute_result"
    }
   ],
   "source": [
    "# Create Dataframe containing only students with reading scores that are 70 or above (considered passing) markdown title\n",
    "students_passing_reading = student_data[student_data['reading_score'] >= 70]\n",
    "# Script for total number of students that are passing then convert it to percentage\n",
    "percent_students_passing_reading = len(students_passing_reading['reading_score']) / total_students * 100\n",
    "percent_students_passing_reading"
   ]
  },
  {
   "cell_type": "markdown",
   "metadata": {},
   "source": [
    "# District Summary Table covering entire District"
   ]
  },
  {
   "cell_type": "code",
   "execution_count": 12,
   "metadata": {},
   "outputs": [
    {
     "data": {
      "text/html": [
       "<div>\n",
       "<style scoped>\n",
       "    .dataframe tbody tr th:only-of-type {\n",
       "        vertical-align: middle;\n",
       "    }\n",
       "\n",
       "    .dataframe tbody tr th {\n",
       "        vertical-align: top;\n",
       "    }\n",
       "\n",
       "    .dataframe thead th {\n",
       "        text-align: right;\n",
       "    }\n",
       "</style>\n",
       "<table border=\"1\" class=\"dataframe\">\n",
       "  <thead>\n",
       "    <tr style=\"text-align: right;\">\n",
       "      <th></th>\n",
       "      <th>total_schools</th>\n",
       "      <th>total_students</th>\n",
       "      <th>total_budget</th>\n",
       "      <th>average_math_score</th>\n",
       "      <th>average_reading_score</th>\n",
       "      <th>overall_passing_rate</th>\n",
       "      <th>percent_students_passing_math</th>\n",
       "      <th>percent_students_passing_reading</th>\n",
       "    </tr>\n",
       "  </thead>\n",
       "  <tbody>\n",
       "    <tr>\n",
       "      <th>0</th>\n",
       "      <td>15</td>\n",
       "      <td>39170</td>\n",
       "      <td>24649428</td>\n",
       "      <td>78.985371</td>\n",
       "      <td>81.87784</td>\n",
       "      <td>80.431606</td>\n",
       "      <td>74.980853</td>\n",
       "      <td>85.805463</td>\n",
       "    </tr>\n",
       "  </tbody>\n",
       "</table>\n",
       "</div>"
      ],
      "text/plain": [
       "   total_schools  total_students  total_budget  average_math_score  \\\n",
       "0             15           39170      24649428           78.985371   \n",
       "\n",
       "   average_reading_score  overall_passing_rate  percent_students_passing_math  \\\n",
       "0               81.87784             80.431606                      74.980853   \n",
       "\n",
       "   percent_students_passing_reading  \n",
       "0                         85.805463  "
      ]
     },
     "execution_count": 12,
     "metadata": {},
     "output_type": "execute_result"
    }
   ],
   "source": [
    "# Create a district summary dictionary and list...need a markdown title\n",
    "district_summary_data = {\n",
    "    'total_schools': [total_schools],\n",
    "    'total_students': [total_students],\n",
    "    'total_budget': [total_budget],\n",
    "    'average_math_score': [average_math_score],\n",
    "    'average_reading_score': [average_reading_score],\n",
    "    'overall_passing_rate': [overall_passing_rate],\n",
    "    'percent_students_passing_math': [percent_students_passing_math],\n",
    "    'percent_students_passing_reading': [percent_students_passing_reading]\n",
    "}\n",
    "\n",
    "district_summary_df = pd.DataFrame(district_summary_data)\n",
    "district_summary_df.head()"
   ]
  },
  {
   "cell_type": "markdown",
   "metadata": {},
   "source": [
    "## School Summary"
   ]
  },
  {
   "cell_type": "markdown",
   "metadata": {},
   "source": [
    "* Create an overview table that summarizes key metrics about each school, including:\n",
    "  * School Name\n",
    "  * School Type\n",
    "  * Total Students\n",
    "  * Total School Budget\n",
    "  * Per Student Budget\n",
    "  * Average Math Score\n",
    "  * Average Reading Score\n",
    "  * % Passing Math\n",
    "  * % Passing Reading\n",
    "  * Overall Passing Rate (Average of the above two)\n",
    "  \n",
    "* Create a dataframe to hold the above results"
   ]
  },
  {
   "cell_type": "markdown",
   "metadata": {},
   "source": [
    "# School Name"
   ]
  },
  {
   "cell_type": "code",
   "execution_count": 13,
   "metadata": {},
   "outputs": [
    {
     "data": {
      "text/plain": [
       "7        Bailey High School\n",
       "6       Cabrera High School\n",
       "1      Figueroa High School\n",
       "13         Ford High School\n",
       "4       Griffin High School\n",
       "3     Hernandez High School\n",
       "8        Holden High School\n",
       "0         Huang High School\n",
       "12      Johnson High School\n",
       "9          Pena High School\n",
       "11    Rodriguez High School\n",
       "2       Shelton High School\n",
       "14       Thomas High School\n",
       "5        Wilson High School\n",
       "10       Wright High School\n",
       "Name: school_name, dtype: object"
      ]
     },
     "execution_count": 13,
     "metadata": {},
     "output_type": "execute_result"
    }
   ],
   "source": [
    "school_names = school_data['school_name']\n",
    "school_names"
   ]
  },
  {
   "cell_type": "markdown",
   "metadata": {},
   "source": [
    "# School Type "
   ]
  },
  {
   "cell_type": "code",
   "execution_count": 14,
   "metadata": {},
   "outputs": [
    {
     "data": {
      "text/plain": [
       "7     District\n",
       "6      Charter\n",
       "1     District\n",
       "13    District\n",
       "4      Charter\n",
       "3     District\n",
       "8      Charter\n",
       "0     District\n",
       "12    District\n",
       "9      Charter\n",
       "11    District\n",
       "2      Charter\n",
       "14     Charter\n",
       "5      Charter\n",
       "10     Charter\n",
       "Name: type, dtype: object"
      ]
     },
     "execution_count": 14,
     "metadata": {},
     "output_type": "execute_result"
    }
   ],
   "source": [
    "school_types = school_data['type']\n",
    "school_types"
   ]
  },
  {
   "cell_type": "markdown",
   "metadata": {},
   "source": [
    "# Total Students for Each School"
   ]
  },
  {
   "cell_type": "code",
   "execution_count": 15,
   "metadata": {},
   "outputs": [
    {
     "data": {
      "text/plain": [
       "7     4976\n",
       "6     1858\n",
       "1     2949\n",
       "13    2739\n",
       "4     1468\n",
       "3     4635\n",
       "8      427\n",
       "0     2917\n",
       "12    4761\n",
       "9      962\n",
       "11    3999\n",
       "2     1761\n",
       "14    1635\n",
       "5     2283\n",
       "10    1800\n",
       "Name: size, dtype: int64"
      ]
     },
     "execution_count": 15,
     "metadata": {},
     "output_type": "execute_result"
    }
   ],
   "source": [
    "school_total_students = school_data['size']\n",
    "school_total_students"
   ]
  },
  {
   "cell_type": "markdown",
   "metadata": {},
   "source": [
    "# Total Budget for Each School"
   ]
  },
  {
   "cell_type": "code",
   "execution_count": 16,
   "metadata": {},
   "outputs": [
    {
     "data": {
      "text/plain": [
       "7     3124928\n",
       "6     1081356\n",
       "1     1884411\n",
       "13    1763916\n",
       "4      917500\n",
       "3     3022020\n",
       "8      248087\n",
       "0     1910635\n",
       "12    3094650\n",
       "9      585858\n",
       "11    2547363\n",
       "2     1056600\n",
       "14    1043130\n",
       "5     1319574\n",
       "10    1049400\n",
       "Name: budget, dtype: int64"
      ]
     },
     "execution_count": 16,
     "metadata": {},
     "output_type": "execute_result"
    }
   ],
   "source": [
    "school_budgets = school_data['budget']\n",
    "school_budgets"
   ]
  },
  {
   "cell_type": "markdown",
   "metadata": {},
   "source": [
    "# Total Budget per Student"
   ]
  },
  {
   "cell_type": "code",
   "execution_count": 17,
   "metadata": {},
   "outputs": [
    {
     "data": {
      "text/plain": [
       "7     628.0\n",
       "6     582.0\n",
       "1     639.0\n",
       "13    644.0\n",
       "4     625.0\n",
       "3     652.0\n",
       "8     581.0\n",
       "0     655.0\n",
       "12    650.0\n",
       "9     609.0\n",
       "11    637.0\n",
       "2     600.0\n",
       "14    638.0\n",
       "5     578.0\n",
       "10    583.0\n",
       "dtype: float64"
      ]
     },
     "execution_count": 17,
     "metadata": {},
     "output_type": "execute_result"
    }
   ],
   "source": [
    "# Divides the budget for each school by the total number of students in each school\n",
    "school_budgets_per_student = school_budgets / school_total_students\n",
    "school_budgets_per_student"
   ]
  },
  {
   "cell_type": "code",
   "execution_count": 18,
   "metadata": {},
   "outputs": [
    {
     "data": {
      "text/html": [
       "<div>\n",
       "<style scoped>\n",
       "    .dataframe tbody tr th:only-of-type {\n",
       "        vertical-align: middle;\n",
       "    }\n",
       "\n",
       "    .dataframe tbody tr th {\n",
       "        vertical-align: top;\n",
       "    }\n",
       "\n",
       "    .dataframe thead th {\n",
       "        text-align: right;\n",
       "    }\n",
       "</style>\n",
       "<table border=\"1\" class=\"dataframe\">\n",
       "  <thead>\n",
       "    <tr style=\"text-align: right;\">\n",
       "      <th></th>\n",
       "      <th>reading_score</th>\n",
       "      <th>math_score</th>\n",
       "    </tr>\n",
       "    <tr>\n",
       "      <th>school_name</th>\n",
       "      <th></th>\n",
       "      <th></th>\n",
       "    </tr>\n",
       "  </thead>\n",
       "  <tbody>\n",
       "    <tr>\n",
       "      <th>Bailey High School</th>\n",
       "      <td>81.033963</td>\n",
       "      <td>77.048432</td>\n",
       "    </tr>\n",
       "    <tr>\n",
       "      <th>Cabrera High School</th>\n",
       "      <td>83.975780</td>\n",
       "      <td>83.061895</td>\n",
       "    </tr>\n",
       "    <tr>\n",
       "      <th>Figueroa High School</th>\n",
       "      <td>81.158020</td>\n",
       "      <td>76.711767</td>\n",
       "    </tr>\n",
       "    <tr>\n",
       "      <th>Ford High School</th>\n",
       "      <td>80.746258</td>\n",
       "      <td>77.102592</td>\n",
       "    </tr>\n",
       "    <tr>\n",
       "      <th>Griffin High School</th>\n",
       "      <td>83.816757</td>\n",
       "      <td>83.351499</td>\n",
       "    </tr>\n",
       "    <tr>\n",
       "      <th>Hernandez High School</th>\n",
       "      <td>80.934412</td>\n",
       "      <td>77.289752</td>\n",
       "    </tr>\n",
       "    <tr>\n",
       "      <th>Holden High School</th>\n",
       "      <td>83.814988</td>\n",
       "      <td>83.803279</td>\n",
       "    </tr>\n",
       "    <tr>\n",
       "      <th>Huang High School</th>\n",
       "      <td>81.182722</td>\n",
       "      <td>76.629414</td>\n",
       "    </tr>\n",
       "    <tr>\n",
       "      <th>Johnson High School</th>\n",
       "      <td>80.966394</td>\n",
       "      <td>77.072464</td>\n",
       "    </tr>\n",
       "    <tr>\n",
       "      <th>Pena High School</th>\n",
       "      <td>84.044699</td>\n",
       "      <td>83.839917</td>\n",
       "    </tr>\n",
       "    <tr>\n",
       "      <th>Rodriguez High School</th>\n",
       "      <td>80.744686</td>\n",
       "      <td>76.842711</td>\n",
       "    </tr>\n",
       "    <tr>\n",
       "      <th>Shelton High School</th>\n",
       "      <td>83.725724</td>\n",
       "      <td>83.359455</td>\n",
       "    </tr>\n",
       "    <tr>\n",
       "      <th>Thomas High School</th>\n",
       "      <td>83.848930</td>\n",
       "      <td>83.418349</td>\n",
       "    </tr>\n",
       "    <tr>\n",
       "      <th>Wilson High School</th>\n",
       "      <td>83.989488</td>\n",
       "      <td>83.274201</td>\n",
       "    </tr>\n",
       "    <tr>\n",
       "      <th>Wright High School</th>\n",
       "      <td>83.955000</td>\n",
       "      <td>83.682222</td>\n",
       "    </tr>\n",
       "  </tbody>\n",
       "</table>\n",
       "</div>"
      ],
      "text/plain": [
       "                       reading_score  math_score\n",
       "school_name                                     \n",
       "Bailey High School         81.033963   77.048432\n",
       "Cabrera High School        83.975780   83.061895\n",
       "Figueroa High School       81.158020   76.711767\n",
       "Ford High School           80.746258   77.102592\n",
       "Griffin High School        83.816757   83.351499\n",
       "Hernandez High School      80.934412   77.289752\n",
       "Holden High School         83.814988   83.803279\n",
       "Huang High School          81.182722   76.629414\n",
       "Johnson High School        80.966394   77.072464\n",
       "Pena High School           84.044699   83.839917\n",
       "Rodriguez High School      80.744686   76.842711\n",
       "Shelton High School        83.725724   83.359455\n",
       "Thomas High School         83.848930   83.418349\n",
       "Wilson High School         83.989488   83.274201\n",
       "Wright High School         83.955000   83.682222"
      ]
     },
     "execution_count": 18,
     "metadata": {},
     "output_type": "execute_result"
    }
   ],
   "source": [
    "# Group data by school, get mean, only keep average reading and math score columns\n",
    "school_average_scores_df = school_data_complete.groupby('school_name').mean()[['reading_score', 'math_score']]\n",
    "school_average_scores_df"
   ]
  },
  {
   "cell_type": "markdown",
   "metadata": {},
   "source": [
    "# Average Math Score for Each School"
   ]
  },
  {
   "cell_type": "code",
   "execution_count": 19,
   "metadata": {},
   "outputs": [
    {
     "data": {
      "text/plain": [
       "array([77.04843248, 83.06189451, 76.7117667 , 77.10259219, 83.35149864,\n",
       "       77.28975189, 83.80327869, 76.62941378, 77.07246377, 83.83991684,\n",
       "       76.84271068, 83.35945486, 83.41834862, 83.27420061, 83.68222222])"
      ]
     },
     "execution_count": 19,
     "metadata": {},
     "output_type": "execute_result"
    }
   ],
   "source": [
    "# average math score, converts to array by using .values\n",
    "school_average_math_scores = school_average_scores_df['math_score'].values\n",
    "school_average_math_scores"
   ]
  },
  {
   "cell_type": "markdown",
   "metadata": {},
   "source": [
    "# Average Reading Score for Each School"
   ]
  },
  {
   "cell_type": "code",
   "execution_count": 20,
   "metadata": {},
   "outputs": [
    {
     "data": {
      "text/plain": [
       "array([81.03396302, 83.97578041, 81.15801967, 80.74625776, 83.81675749,\n",
       "       80.93441208, 83.81498829, 81.18272197, 80.96639361, 84.04469854,\n",
       "       80.74468617, 83.72572402, 83.84892966, 83.98948752, 83.955     ])"
      ]
     },
     "execution_count": 20,
     "metadata": {},
     "output_type": "execute_result"
    }
   ],
   "source": [
    "# average reading score, converts to array by using .values\n",
    "school_average_reading_scores = school_average_scores_df['reading_score'].values\n",
    "school_average_reading_scores"
   ]
  },
  {
   "cell_type": "markdown",
   "metadata": {},
   "source": [
    "# Percent Passing Math for Each School"
   ]
  },
  {
   "cell_type": "code",
   "execution_count": 21,
   "metadata": {},
   "outputs": [
    {
     "data": {
      "text/plain": [
       "array([66.68006431, 94.13347686, 65.98847067, 68.30960204, 93.39237057,\n",
       "       66.75296656, 92.5058548 , 65.68392184, 66.05755093, 94.59459459,\n",
       "       66.36659165, 93.86712095, 93.27217125, 93.86771792, 93.33333333])"
      ]
     },
     "execution_count": 21,
     "metadata": {},
     "output_type": "execute_result"
    }
   ],
   "source": [
    "school_total_passing_math_df = school_data_complete[school_data_complete['math_score'] >= 70]\n",
    "\n",
    "school_and_score_grouped = school_total_passing_math_df[['school_name', 'math_score', 'size']].groupby('school_name')\n",
    "\n",
    "# Convert to an array by using .values\n",
    "school_total_passing_math = school_and_score_grouped.count()['math_score'].values\n",
    "\n",
    "# Calculate the percentage\n",
    "school_percent_passing_math = school_total_passing_math / school_total_students.values * 100\n",
    "school_percent_passing_math"
   ]
  },
  {
   "cell_type": "markdown",
   "metadata": {},
   "source": [
    "# Percent Passing Reading for Each School"
   ]
  },
  {
   "cell_type": "code",
   "execution_count": 22,
   "metadata": {},
   "outputs": [
    {
     "data": {
      "text/plain": [
       "array([81.93327974, 97.03982777, 80.73923364, 79.29901424, 97.13896458,\n",
       "       80.86299892, 96.2529274 , 81.31642098, 81.22243226, 95.94594595,\n",
       "       80.22005501, 95.85462805, 97.3088685 , 96.53964082, 96.61111111])"
      ]
     },
     "execution_count": 22,
     "metadata": {},
     "output_type": "execute_result"
    }
   ],
   "source": [
    "school_total_passing_reading_df = school_data_complete[school_data_complete['reading_score'] >= 70]\n",
    "\n",
    "school_and_score_grouped = school_total_passing_reading_df[['school_name', 'reading_score', 'size']].groupby('school_name')\n",
    "\n",
    "# Convert to an array by using .values\n",
    "school_total_passing_reading = school_and_score_grouped.count()['reading_score'].values\n",
    "\n",
    "# Calculate the percentage\n",
    "school_percent_passing_reading = school_total_passing_reading / school_total_students.values * 100\n",
    "school_percent_passing_reading"
   ]
  },
  {
   "cell_type": "markdown",
   "metadata": {},
   "source": [
    "# Percent Overall Passing Rate for Each School"
   ]
  },
  {
   "cell_type": "code",
   "execution_count": 23,
   "metadata": {},
   "outputs": [
    {
     "data": {
      "text/plain": [
       "array([74.30667203, 95.58665231, 73.36385215, 73.80430814, 95.26566757,\n",
       "       73.80798274, 94.3793911 , 73.50017141, 73.6399916 , 95.27027027,\n",
       "       73.29332333, 94.8608745 , 95.29051988, 95.20367937, 94.97222222])"
      ]
     },
     "execution_count": 23,
     "metadata": {},
     "output_type": "execute_result"
    }
   ],
   "source": [
    "school_overall_passing_rate = (school_percent_passing_math + school_percent_passing_reading) / 2\n",
    "school_overall_passing_rate"
   ]
  },
  {
   "cell_type": "markdown",
   "metadata": {},
   "source": [
    "# School Data Summary Table"
   ]
  },
  {
   "cell_type": "code",
   "execution_count": 25,
   "metadata": {},
   "outputs": [
    {
     "data": {
      "text/html": [
       "<div>\n",
       "<style scoped>\n",
       "    .dataframe tbody tr th:only-of-type {\n",
       "        vertical-align: middle;\n",
       "    }\n",
       "\n",
       "    .dataframe tbody tr th {\n",
       "        vertical-align: top;\n",
       "    }\n",
       "\n",
       "    .dataframe thead th {\n",
       "        text-align: right;\n",
       "    }\n",
       "</style>\n",
       "<table border=\"1\" class=\"dataframe\">\n",
       "  <thead>\n",
       "    <tr style=\"text-align: right;\">\n",
       "      <th></th>\n",
       "      <th>type</th>\n",
       "      <th>total_students</th>\n",
       "      <th>budget</th>\n",
       "      <th>budget_per_student</th>\n",
       "      <th>average_math_scores</th>\n",
       "      <th>average_reading_scores</th>\n",
       "      <th>percent_passing_math</th>\n",
       "      <th>percent_passing_reading</th>\n",
       "      <th>overall_passing_rate</th>\n",
       "    </tr>\n",
       "    <tr>\n",
       "      <th>name</th>\n",
       "      <th></th>\n",
       "      <th></th>\n",
       "      <th></th>\n",
       "      <th></th>\n",
       "      <th></th>\n",
       "      <th></th>\n",
       "      <th></th>\n",
       "      <th></th>\n",
       "      <th></th>\n",
       "    </tr>\n",
       "  </thead>\n",
       "  <tbody>\n",
       "    <tr>\n",
       "      <th>Bailey High School</th>\n",
       "      <td>District</td>\n",
       "      <td>4976</td>\n",
       "      <td>3124928</td>\n",
       "      <td>628.0</td>\n",
       "      <td>77.048432</td>\n",
       "      <td>81.033963</td>\n",
       "      <td>66.680064</td>\n",
       "      <td>81.933280</td>\n",
       "      <td>74.306672</td>\n",
       "    </tr>\n",
       "    <tr>\n",
       "      <th>Cabrera High School</th>\n",
       "      <td>Charter</td>\n",
       "      <td>1858</td>\n",
       "      <td>1081356</td>\n",
       "      <td>582.0</td>\n",
       "      <td>83.061895</td>\n",
       "      <td>83.975780</td>\n",
       "      <td>94.133477</td>\n",
       "      <td>97.039828</td>\n",
       "      <td>95.586652</td>\n",
       "    </tr>\n",
       "    <tr>\n",
       "      <th>Figueroa High School</th>\n",
       "      <td>District</td>\n",
       "      <td>2949</td>\n",
       "      <td>1884411</td>\n",
       "      <td>639.0</td>\n",
       "      <td>76.711767</td>\n",
       "      <td>81.158020</td>\n",
       "      <td>65.988471</td>\n",
       "      <td>80.739234</td>\n",
       "      <td>73.363852</td>\n",
       "    </tr>\n",
       "    <tr>\n",
       "      <th>Ford High School</th>\n",
       "      <td>District</td>\n",
       "      <td>2739</td>\n",
       "      <td>1763916</td>\n",
       "      <td>644.0</td>\n",
       "      <td>77.102592</td>\n",
       "      <td>80.746258</td>\n",
       "      <td>68.309602</td>\n",
       "      <td>79.299014</td>\n",
       "      <td>73.804308</td>\n",
       "    </tr>\n",
       "    <tr>\n",
       "      <th>Griffin High School</th>\n",
       "      <td>Charter</td>\n",
       "      <td>1468</td>\n",
       "      <td>917500</td>\n",
       "      <td>625.0</td>\n",
       "      <td>83.351499</td>\n",
       "      <td>83.816757</td>\n",
       "      <td>93.392371</td>\n",
       "      <td>97.138965</td>\n",
       "      <td>95.265668</td>\n",
       "    </tr>\n",
       "    <tr>\n",
       "      <th>Hernandez High School</th>\n",
       "      <td>District</td>\n",
       "      <td>4635</td>\n",
       "      <td>3022020</td>\n",
       "      <td>652.0</td>\n",
       "      <td>77.289752</td>\n",
       "      <td>80.934412</td>\n",
       "      <td>66.752967</td>\n",
       "      <td>80.862999</td>\n",
       "      <td>73.807983</td>\n",
       "    </tr>\n",
       "    <tr>\n",
       "      <th>Holden High School</th>\n",
       "      <td>Charter</td>\n",
       "      <td>427</td>\n",
       "      <td>248087</td>\n",
       "      <td>581.0</td>\n",
       "      <td>83.803279</td>\n",
       "      <td>83.814988</td>\n",
       "      <td>92.505855</td>\n",
       "      <td>96.252927</td>\n",
       "      <td>94.379391</td>\n",
       "    </tr>\n",
       "    <tr>\n",
       "      <th>Huang High School</th>\n",
       "      <td>District</td>\n",
       "      <td>2917</td>\n",
       "      <td>1910635</td>\n",
       "      <td>655.0</td>\n",
       "      <td>76.629414</td>\n",
       "      <td>81.182722</td>\n",
       "      <td>65.683922</td>\n",
       "      <td>81.316421</td>\n",
       "      <td>73.500171</td>\n",
       "    </tr>\n",
       "    <tr>\n",
       "      <th>Johnson High School</th>\n",
       "      <td>District</td>\n",
       "      <td>4761</td>\n",
       "      <td>3094650</td>\n",
       "      <td>650.0</td>\n",
       "      <td>77.072464</td>\n",
       "      <td>80.966394</td>\n",
       "      <td>66.057551</td>\n",
       "      <td>81.222432</td>\n",
       "      <td>73.639992</td>\n",
       "    </tr>\n",
       "    <tr>\n",
       "      <th>Pena High School</th>\n",
       "      <td>Charter</td>\n",
       "      <td>962</td>\n",
       "      <td>585858</td>\n",
       "      <td>609.0</td>\n",
       "      <td>83.839917</td>\n",
       "      <td>84.044699</td>\n",
       "      <td>94.594595</td>\n",
       "      <td>95.945946</td>\n",
       "      <td>95.270270</td>\n",
       "    </tr>\n",
       "    <tr>\n",
       "      <th>Rodriguez High School</th>\n",
       "      <td>District</td>\n",
       "      <td>3999</td>\n",
       "      <td>2547363</td>\n",
       "      <td>637.0</td>\n",
       "      <td>76.842711</td>\n",
       "      <td>80.744686</td>\n",
       "      <td>66.366592</td>\n",
       "      <td>80.220055</td>\n",
       "      <td>73.293323</td>\n",
       "    </tr>\n",
       "    <tr>\n",
       "      <th>Shelton High School</th>\n",
       "      <td>Charter</td>\n",
       "      <td>1761</td>\n",
       "      <td>1056600</td>\n",
       "      <td>600.0</td>\n",
       "      <td>83.359455</td>\n",
       "      <td>83.725724</td>\n",
       "      <td>93.867121</td>\n",
       "      <td>95.854628</td>\n",
       "      <td>94.860875</td>\n",
       "    </tr>\n",
       "    <tr>\n",
       "      <th>Thomas High School</th>\n",
       "      <td>Charter</td>\n",
       "      <td>1635</td>\n",
       "      <td>1043130</td>\n",
       "      <td>638.0</td>\n",
       "      <td>83.418349</td>\n",
       "      <td>83.848930</td>\n",
       "      <td>93.272171</td>\n",
       "      <td>97.308869</td>\n",
       "      <td>95.290520</td>\n",
       "    </tr>\n",
       "    <tr>\n",
       "      <th>Wilson High School</th>\n",
       "      <td>Charter</td>\n",
       "      <td>2283</td>\n",
       "      <td>1319574</td>\n",
       "      <td>578.0</td>\n",
       "      <td>83.274201</td>\n",
       "      <td>83.989488</td>\n",
       "      <td>93.867718</td>\n",
       "      <td>96.539641</td>\n",
       "      <td>95.203679</td>\n",
       "    </tr>\n",
       "    <tr>\n",
       "      <th>Wright High School</th>\n",
       "      <td>Charter</td>\n",
       "      <td>1800</td>\n",
       "      <td>1049400</td>\n",
       "      <td>583.0</td>\n",
       "      <td>83.682222</td>\n",
       "      <td>83.955000</td>\n",
       "      <td>93.333333</td>\n",
       "      <td>96.611111</td>\n",
       "      <td>94.972222</td>\n",
       "    </tr>\n",
       "  </tbody>\n",
       "</table>\n",
       "</div>"
      ],
      "text/plain": [
       "                           type  total_students   budget  budget_per_student  \\\n",
       "name                                                                           \n",
       "Bailey High School     District            4976  3124928               628.0   \n",
       "Cabrera High School     Charter            1858  1081356               582.0   \n",
       "Figueroa High School   District            2949  1884411               639.0   \n",
       "Ford High School       District            2739  1763916               644.0   \n",
       "Griffin High School     Charter            1468   917500               625.0   \n",
       "Hernandez High School  District            4635  3022020               652.0   \n",
       "Holden High School      Charter             427   248087               581.0   \n",
       "Huang High School      District            2917  1910635               655.0   \n",
       "Johnson High School    District            4761  3094650               650.0   \n",
       "Pena High School        Charter             962   585858               609.0   \n",
       "Rodriguez High School  District            3999  2547363               637.0   \n",
       "Shelton High School     Charter            1761  1056600               600.0   \n",
       "Thomas High School      Charter            1635  1043130               638.0   \n",
       "Wilson High School      Charter            2283  1319574               578.0   \n",
       "Wright High School      Charter            1800  1049400               583.0   \n",
       "\n",
       "                       average_math_scores  average_reading_scores  \\\n",
       "name                                                                 \n",
       "Bailey High School               77.048432               81.033963   \n",
       "Cabrera High School              83.061895               83.975780   \n",
       "Figueroa High School             76.711767               81.158020   \n",
       "Ford High School                 77.102592               80.746258   \n",
       "Griffin High School              83.351499               83.816757   \n",
       "Hernandez High School            77.289752               80.934412   \n",
       "Holden High School               83.803279               83.814988   \n",
       "Huang High School                76.629414               81.182722   \n",
       "Johnson High School              77.072464               80.966394   \n",
       "Pena High School                 83.839917               84.044699   \n",
       "Rodriguez High School            76.842711               80.744686   \n",
       "Shelton High School              83.359455               83.725724   \n",
       "Thomas High School               83.418349               83.848930   \n",
       "Wilson High School               83.274201               83.989488   \n",
       "Wright High School               83.682222               83.955000   \n",
       "\n",
       "                       percent_passing_math  percent_passing_reading  \\\n",
       "name                                                                   \n",
       "Bailey High School                66.680064                81.933280   \n",
       "Cabrera High School               94.133477                97.039828   \n",
       "Figueroa High School              65.988471                80.739234   \n",
       "Ford High School                  68.309602                79.299014   \n",
       "Griffin High School               93.392371                97.138965   \n",
       "Hernandez High School             66.752967                80.862999   \n",
       "Holden High School                92.505855                96.252927   \n",
       "Huang High School                 65.683922                81.316421   \n",
       "Johnson High School               66.057551                81.222432   \n",
       "Pena High School                  94.594595                95.945946   \n",
       "Rodriguez High School             66.366592                80.220055   \n",
       "Shelton High School               93.867121                95.854628   \n",
       "Thomas High School                93.272171                97.308869   \n",
       "Wilson High School                93.867718                96.539641   \n",
       "Wright High School                93.333333                96.611111   \n",
       "\n",
       "                       overall_passing_rate  \n",
       "name                                         \n",
       "Bailey High School                74.306672  \n",
       "Cabrera High School               95.586652  \n",
       "Figueroa High School              73.363852  \n",
       "Ford High School                  73.804308  \n",
       "Griffin High School               95.265668  \n",
       "Hernandez High School             73.807983  \n",
       "Holden High School                94.379391  \n",
       "Huang High School                 73.500171  \n",
       "Johnson High School               73.639992  \n",
       "Pena High School                  95.270270  \n",
       "Rodriguez High School             73.293323  \n",
       "Shelton High School               94.860875  \n",
       "Thomas High School                95.290520  \n",
       "Wilson High School                95.203679  \n",
       "Wright High School                94.972222  "
      ]
     },
     "execution_count": 25,
     "metadata": {},
     "output_type": "execute_result"
    }
   ],
   "source": [
    "school_summary_data = {\n",
    "    'name': school_names,\n",
    "    'type': school_types,\n",
    "    'total_students': school_total_students,\n",
    "    'budget': school_budgets,\n",
    "    'budget_per_student': school_budgets_per_student,\n",
    "    'average_math_scores': school_average_math_scores,\n",
    "    'average_reading_scores': school_average_reading_scores,\n",
    "    'percent_passing_math': school_percent_passing_math,\n",
    "    'percent_passing_reading': school_percent_passing_reading,\n",
    "    'overall_passing_rate': school_overall_passing_rate\n",
    "}\n",
    "school_summary_df = pd.DataFrame(school_summary_data).set_index('name')\n",
    "school_summary_df"
   ]
  },
  {
   "cell_type": "markdown",
   "metadata": {},
   "source": [
    "## Top Performing Schools (By Passing Rate)"
   ]
  },
  {
   "cell_type": "markdown",
   "metadata": {},
   "source": [
    "* Sort and display the top five schools in overall passing rate"
   ]
  },
  {
   "cell_type": "code",
   "execution_count": 26,
   "metadata": {},
   "outputs": [
    {
     "data": {
      "text/plain": [
       "name\n",
       "Cabrera High School    95.586652\n",
       "Thomas High School     95.290520\n",
       "Pena High School       95.270270\n",
       "Griffin High School    95.265668\n",
       "Wilson High School     95.203679\n",
       "Name: overall_passing_rate, dtype: float64"
      ]
     },
     "execution_count": 26,
     "metadata": {},
     "output_type": "execute_result"
    }
   ],
   "source": [
    "# Sort values by passing rate, ascending=False to visualize scores from greatest to least\n",
    "school_summary_df.sort_values('overall_passing_rate', ascending=False)['overall_passing_rate'].head()"
   ]
  },
  {
   "cell_type": "markdown",
   "metadata": {},
   "source": [
    "## Bottom Performing Schools (By Passing Rate)"
   ]
  },
  {
   "cell_type": "markdown",
   "metadata": {},
   "source": [
    "* Sort and display the five worst-performing schools"
   ]
  },
  {
   "cell_type": "code",
   "execution_count": 27,
   "metadata": {},
   "outputs": [
    {
     "data": {
      "text/plain": [
       "name\n",
       "Rodriguez High School    73.293323\n",
       "Figueroa High School     73.363852\n",
       "Huang High School        73.500171\n",
       "Johnson High School      73.639992\n",
       "Ford High School         73.804308\n",
       "Name: overall_passing_rate, dtype: float64"
      ]
     },
     "execution_count": 27,
     "metadata": {},
     "output_type": "execute_result"
    }
   ],
   "source": [
    "# Sort overall passing rate, leave as is to visualize scores from least to greatest\n",
    "school_summary_df.sort_values('overall_passing_rate')['overall_passing_rate'].head()"
   ]
  },
  {
   "cell_type": "markdown",
   "metadata": {
    "collapsed": true
   },
   "source": [
    "## Math Scores by Grade"
   ]
  },
  {
   "cell_type": "markdown",
   "metadata": {},
   "source": [
    "* Create a table that lists the average Reading Score for students of each grade level (9th, 10th, 11th, 12th) at each school.\n",
    "\n",
    "  * Create a pandas series for each grade. Hint: use a conditional statement.\n",
    "  \n",
    "  * Group each series by school\n",
    "  \n",
    "  * Combine the series into a dataframe\n",
    "  \n",
    "  * Optional: give the displayed data cleaner formatting"
   ]
  },
  {
   "cell_type": "code",
   "execution_count": 28,
   "metadata": {},
   "outputs": [],
   "source": [
    "# For each grade take out the other grades, groupby the school name, get the mean\n",
    "ninth_grade_math_scores = school_data_complete[school_data_complete['grade'] == '9th'].groupby('school_name').mean()['math_score']\n",
    "tenth_grade_math_scores = school_data_complete[school_data_complete['grade'] == '10th'].groupby('school_name').mean()['math_score']\n",
    "eleventh_grade_math_scores = school_data_complete[school_data_complete['grade'] == '11th'].groupby('school_name').mean()['math_score']\n",
    "twelfth_grade_math_scores = school_data_complete[school_data_complete['grade'] == '12th'].groupby('school_name').mean()['math_score']"
   ]
  },
  {
   "cell_type": "code",
   "execution_count": 29,
   "metadata": {},
   "outputs": [
    {
     "data": {
      "text/html": [
       "<div>\n",
       "<style scoped>\n",
       "    .dataframe tbody tr th:only-of-type {\n",
       "        vertical-align: middle;\n",
       "    }\n",
       "\n",
       "    .dataframe tbody tr th {\n",
       "        vertical-align: top;\n",
       "    }\n",
       "\n",
       "    .dataframe thead th {\n",
       "        text-align: right;\n",
       "    }\n",
       "</style>\n",
       "<table border=\"1\" class=\"dataframe\">\n",
       "  <thead>\n",
       "    <tr style=\"text-align: right;\">\n",
       "      <th></th>\n",
       "      <th>9th</th>\n",
       "      <th>10th</th>\n",
       "      <th>11th</th>\n",
       "      <th>12th</th>\n",
       "    </tr>\n",
       "    <tr>\n",
       "      <th>school_name</th>\n",
       "      <th></th>\n",
       "      <th></th>\n",
       "      <th></th>\n",
       "      <th></th>\n",
       "    </tr>\n",
       "  </thead>\n",
       "  <tbody>\n",
       "    <tr>\n",
       "      <th>Bailey High School</th>\n",
       "      <td>77.083676</td>\n",
       "      <td>76.996772</td>\n",
       "      <td>77.515588</td>\n",
       "      <td>76.492218</td>\n",
       "    </tr>\n",
       "    <tr>\n",
       "      <th>Cabrera High School</th>\n",
       "      <td>83.094697</td>\n",
       "      <td>83.154506</td>\n",
       "      <td>82.765560</td>\n",
       "      <td>83.277487</td>\n",
       "    </tr>\n",
       "    <tr>\n",
       "      <th>Figueroa High School</th>\n",
       "      <td>76.403037</td>\n",
       "      <td>76.539974</td>\n",
       "      <td>76.884344</td>\n",
       "      <td>77.151369</td>\n",
       "    </tr>\n",
       "    <tr>\n",
       "      <th>Ford High School</th>\n",
       "      <td>77.361345</td>\n",
       "      <td>77.672316</td>\n",
       "      <td>76.918058</td>\n",
       "      <td>76.179963</td>\n",
       "    </tr>\n",
       "    <tr>\n",
       "      <th>Griffin High School</th>\n",
       "      <td>82.044010</td>\n",
       "      <td>84.229064</td>\n",
       "      <td>83.842105</td>\n",
       "      <td>83.356164</td>\n",
       "    </tr>\n",
       "    <tr>\n",
       "      <th>Hernandez High School</th>\n",
       "      <td>77.438495</td>\n",
       "      <td>77.337408</td>\n",
       "      <td>77.136029</td>\n",
       "      <td>77.186567</td>\n",
       "    </tr>\n",
       "    <tr>\n",
       "      <th>Holden High School</th>\n",
       "      <td>83.787402</td>\n",
       "      <td>83.429825</td>\n",
       "      <td>85.000000</td>\n",
       "      <td>82.855422</td>\n",
       "    </tr>\n",
       "    <tr>\n",
       "      <th>Huang High School</th>\n",
       "      <td>77.027251</td>\n",
       "      <td>75.908735</td>\n",
       "      <td>76.446602</td>\n",
       "      <td>77.225641</td>\n",
       "    </tr>\n",
       "    <tr>\n",
       "      <th>Johnson High School</th>\n",
       "      <td>77.187857</td>\n",
       "      <td>76.691117</td>\n",
       "      <td>77.491653</td>\n",
       "      <td>76.863248</td>\n",
       "    </tr>\n",
       "    <tr>\n",
       "      <th>Pena High School</th>\n",
       "      <td>83.625455</td>\n",
       "      <td>83.372000</td>\n",
       "      <td>84.328125</td>\n",
       "      <td>84.121547</td>\n",
       "    </tr>\n",
       "    <tr>\n",
       "      <th>Rodriguez High School</th>\n",
       "      <td>76.859966</td>\n",
       "      <td>76.612500</td>\n",
       "      <td>76.395626</td>\n",
       "      <td>77.690748</td>\n",
       "    </tr>\n",
       "    <tr>\n",
       "      <th>Shelton High School</th>\n",
       "      <td>83.420755</td>\n",
       "      <td>82.917411</td>\n",
       "      <td>83.383495</td>\n",
       "      <td>83.778976</td>\n",
       "    </tr>\n",
       "    <tr>\n",
       "      <th>Thomas High School</th>\n",
       "      <td>83.590022</td>\n",
       "      <td>83.087886</td>\n",
       "      <td>83.498795</td>\n",
       "      <td>83.497041</td>\n",
       "    </tr>\n",
       "    <tr>\n",
       "      <th>Wilson High School</th>\n",
       "      <td>83.085578</td>\n",
       "      <td>83.724422</td>\n",
       "      <td>83.195326</td>\n",
       "      <td>83.035794</td>\n",
       "    </tr>\n",
       "    <tr>\n",
       "      <th>Wright High School</th>\n",
       "      <td>83.264706</td>\n",
       "      <td>84.010288</td>\n",
       "      <td>83.836782</td>\n",
       "      <td>83.644986</td>\n",
       "    </tr>\n",
       "  </tbody>\n",
       "</table>\n",
       "</div>"
      ],
      "text/plain": [
       "                             9th       10th       11th       12th\n",
       "school_name                                                      \n",
       "Bailey High School     77.083676  76.996772  77.515588  76.492218\n",
       "Cabrera High School    83.094697  83.154506  82.765560  83.277487\n",
       "Figueroa High School   76.403037  76.539974  76.884344  77.151369\n",
       "Ford High School       77.361345  77.672316  76.918058  76.179963\n",
       "Griffin High School    82.044010  84.229064  83.842105  83.356164\n",
       "Hernandez High School  77.438495  77.337408  77.136029  77.186567\n",
       "Holden High School     83.787402  83.429825  85.000000  82.855422\n",
       "Huang High School      77.027251  75.908735  76.446602  77.225641\n",
       "Johnson High School    77.187857  76.691117  77.491653  76.863248\n",
       "Pena High School       83.625455  83.372000  84.328125  84.121547\n",
       "Rodriguez High School  76.859966  76.612500  76.395626  77.690748\n",
       "Shelton High School    83.420755  82.917411  83.383495  83.778976\n",
       "Thomas High School     83.590022  83.087886  83.498795  83.497041\n",
       "Wilson High School     83.085578  83.724422  83.195326  83.035794\n",
       "Wright High School     83.264706  84.010288  83.836782  83.644986"
      ]
     },
     "execution_count": 29,
     "metadata": {},
     "output_type": "execute_result"
    }
   ],
   "source": [
    "# Establish columns for results\n",
    "math_scores_by_grade = {\n",
    "    '9th': ninth_grade_math_scores,\n",
    "    '10th': tenth_grade_math_scores,\n",
    "    '11th': eleventh_grade_math_scores,\n",
    "    '12th': twelfth_grade_math_scores\n",
    "}\n",
    "\n",
    "math_scores_by_grade_df = pd.DataFrame(math_scores_by_grade)\n",
    "math_scores_by_grade_df"
   ]
  },
  {
   "cell_type": "markdown",
   "metadata": {},
   "source": [
    "## Reading Score by Grade "
   ]
  },
  {
   "cell_type": "markdown",
   "metadata": {},
   "source": [
    "* Perform the same operations as above for reading scores"
   ]
  },
  {
   "cell_type": "code",
   "execution_count": 30,
   "metadata": {},
   "outputs": [],
   "source": [
    "# For each grade take out the other grades, groupby the school name, get the mean\n",
    "ninth_grade_reading_scores = school_data_complete[school_data_complete['grade'] == '9th'].groupby('school_name').mean()['reading_score']\n",
    "tenth_grade_reading_scores = school_data_complete[school_data_complete['grade'] == '10th'].groupby('school_name').mean()['reading_score']\n",
    "eleventh_grade_reading_scores = school_data_complete[school_data_complete['grade'] == '11th'].groupby('school_name').mean()['reading_score']\n",
    "twelfth_grade_reading_scores = school_data_complete[school_data_complete['grade'] == '12th'].groupby('school_name').mean()['reading_score']"
   ]
  },
  {
   "cell_type": "code",
   "execution_count": 31,
   "metadata": {},
   "outputs": [
    {
     "data": {
      "text/html": [
       "<div>\n",
       "<style scoped>\n",
       "    .dataframe tbody tr th:only-of-type {\n",
       "        vertical-align: middle;\n",
       "    }\n",
       "\n",
       "    .dataframe tbody tr th {\n",
       "        vertical-align: top;\n",
       "    }\n",
       "\n",
       "    .dataframe thead th {\n",
       "        text-align: right;\n",
       "    }\n",
       "</style>\n",
       "<table border=\"1\" class=\"dataframe\">\n",
       "  <thead>\n",
       "    <tr style=\"text-align: right;\">\n",
       "      <th></th>\n",
       "      <th>9th</th>\n",
       "      <th>10th</th>\n",
       "      <th>11th</th>\n",
       "      <th>12th</th>\n",
       "    </tr>\n",
       "    <tr>\n",
       "      <th>school_name</th>\n",
       "      <th></th>\n",
       "      <th></th>\n",
       "      <th></th>\n",
       "      <th></th>\n",
       "    </tr>\n",
       "  </thead>\n",
       "  <tbody>\n",
       "    <tr>\n",
       "      <th>Bailey High School</th>\n",
       "      <td>81.303155</td>\n",
       "      <td>80.907183</td>\n",
       "      <td>80.945643</td>\n",
       "      <td>80.912451</td>\n",
       "    </tr>\n",
       "    <tr>\n",
       "      <th>Cabrera High School</th>\n",
       "      <td>83.676136</td>\n",
       "      <td>84.253219</td>\n",
       "      <td>83.788382</td>\n",
       "      <td>84.287958</td>\n",
       "    </tr>\n",
       "    <tr>\n",
       "      <th>Figueroa High School</th>\n",
       "      <td>81.198598</td>\n",
       "      <td>81.408912</td>\n",
       "      <td>80.640339</td>\n",
       "      <td>81.384863</td>\n",
       "    </tr>\n",
       "    <tr>\n",
       "      <th>Ford High School</th>\n",
       "      <td>80.632653</td>\n",
       "      <td>81.262712</td>\n",
       "      <td>80.403642</td>\n",
       "      <td>80.662338</td>\n",
       "    </tr>\n",
       "    <tr>\n",
       "      <th>Griffin High School</th>\n",
       "      <td>83.369193</td>\n",
       "      <td>83.706897</td>\n",
       "      <td>84.288089</td>\n",
       "      <td>84.013699</td>\n",
       "    </tr>\n",
       "    <tr>\n",
       "      <th>Hernandez High School</th>\n",
       "      <td>80.866860</td>\n",
       "      <td>80.660147</td>\n",
       "      <td>81.396140</td>\n",
       "      <td>80.857143</td>\n",
       "    </tr>\n",
       "    <tr>\n",
       "      <th>Holden High School</th>\n",
       "      <td>83.677165</td>\n",
       "      <td>83.324561</td>\n",
       "      <td>83.815534</td>\n",
       "      <td>84.698795</td>\n",
       "    </tr>\n",
       "    <tr>\n",
       "      <th>Huang High School</th>\n",
       "      <td>81.290284</td>\n",
       "      <td>81.512386</td>\n",
       "      <td>81.417476</td>\n",
       "      <td>80.305983</td>\n",
       "    </tr>\n",
       "    <tr>\n",
       "      <th>Johnson High School</th>\n",
       "      <td>81.260714</td>\n",
       "      <td>80.773431</td>\n",
       "      <td>80.616027</td>\n",
       "      <td>81.227564</td>\n",
       "    </tr>\n",
       "    <tr>\n",
       "      <th>Pena High School</th>\n",
       "      <td>83.807273</td>\n",
       "      <td>83.612000</td>\n",
       "      <td>84.335938</td>\n",
       "      <td>84.591160</td>\n",
       "    </tr>\n",
       "    <tr>\n",
       "      <th>Rodriguez High School</th>\n",
       "      <td>80.993127</td>\n",
       "      <td>80.629808</td>\n",
       "      <td>80.864811</td>\n",
       "      <td>80.376426</td>\n",
       "    </tr>\n",
       "    <tr>\n",
       "      <th>Shelton High School</th>\n",
       "      <td>84.122642</td>\n",
       "      <td>83.441964</td>\n",
       "      <td>84.373786</td>\n",
       "      <td>82.781671</td>\n",
       "    </tr>\n",
       "    <tr>\n",
       "      <th>Thomas High School</th>\n",
       "      <td>83.728850</td>\n",
       "      <td>84.254157</td>\n",
       "      <td>83.585542</td>\n",
       "      <td>83.831361</td>\n",
       "    </tr>\n",
       "    <tr>\n",
       "      <th>Wilson High School</th>\n",
       "      <td>83.939778</td>\n",
       "      <td>84.021452</td>\n",
       "      <td>83.764608</td>\n",
       "      <td>84.317673</td>\n",
       "    </tr>\n",
       "    <tr>\n",
       "      <th>Wright High School</th>\n",
       "      <td>83.833333</td>\n",
       "      <td>83.812757</td>\n",
       "      <td>84.156322</td>\n",
       "      <td>84.073171</td>\n",
       "    </tr>\n",
       "  </tbody>\n",
       "</table>\n",
       "</div>"
      ],
      "text/plain": [
       "                             9th       10th       11th       12th\n",
       "school_name                                                      \n",
       "Bailey High School     81.303155  80.907183  80.945643  80.912451\n",
       "Cabrera High School    83.676136  84.253219  83.788382  84.287958\n",
       "Figueroa High School   81.198598  81.408912  80.640339  81.384863\n",
       "Ford High School       80.632653  81.262712  80.403642  80.662338\n",
       "Griffin High School    83.369193  83.706897  84.288089  84.013699\n",
       "Hernandez High School  80.866860  80.660147  81.396140  80.857143\n",
       "Holden High School     83.677165  83.324561  83.815534  84.698795\n",
       "Huang High School      81.290284  81.512386  81.417476  80.305983\n",
       "Johnson High School    81.260714  80.773431  80.616027  81.227564\n",
       "Pena High School       83.807273  83.612000  84.335938  84.591160\n",
       "Rodriguez High School  80.993127  80.629808  80.864811  80.376426\n",
       "Shelton High School    84.122642  83.441964  84.373786  82.781671\n",
       "Thomas High School     83.728850  84.254157  83.585542  83.831361\n",
       "Wilson High School     83.939778  84.021452  83.764608  84.317673\n",
       "Wright High School     83.833333  83.812757  84.156322  84.073171"
      ]
     },
     "execution_count": 31,
     "metadata": {},
     "output_type": "execute_result"
    }
   ],
   "source": [
    "# Establish columns for results\n",
    "reading_scores_by_grade = {\n",
    "    '9th': ninth_grade_reading_scores,\n",
    "    '10th': tenth_grade_reading_scores,\n",
    "    '11th': eleventh_grade_reading_scores,\n",
    "    '12th': twelfth_grade_reading_scores\n",
    "}\n",
    "\n",
    "reading_scores_by_grade_df = pd.DataFrame(reading_scores_by_grade)\n",
    "reading_scores_by_grade_df"
   ]
  },
  {
   "cell_type": "markdown",
   "metadata": {},
   "source": [
    "## Scores by School Spending"
   ]
  },
  {
   "cell_type": "markdown",
   "metadata": {},
   "source": [
    "* Create a table that breaks down school performances based on average Spending Ranges (Per Student). Use 4 reasonable bins to group school spending. Include in the table each of the following:\n",
    "  * Average Math Score\n",
    "  * Average Reading Score\n",
    "  * % Passing Math\n",
    "  * % Passing Reading\n",
    "  * Overall Passing Rate (Average of the above two)"
   ]
  },
  {
   "cell_type": "code",
   "execution_count": 32,
   "metadata": {},
   "outputs": [],
   "source": [
    "# I'm using bins of less than 580, then by 30's, 580-610, 610-640, 640-670\n",
    "spending_bins = [0, 580, 610, 640, 670]\n",
    "group_names = [\"<$580\", \"$580-610\", \"$610-640\", \"$640-670\"]"
   ]
  },
  {
   "cell_type": "code",
   "execution_count": 33,
   "metadata": {},
   "outputs": [
    {
     "data": {
      "text/html": [
       "<div>\n",
       "<style scoped>\n",
       "    .dataframe tbody tr th:only-of-type {\n",
       "        vertical-align: middle;\n",
       "    }\n",
       "\n",
       "    .dataframe tbody tr th {\n",
       "        vertical-align: top;\n",
       "    }\n",
       "\n",
       "    .dataframe thead th {\n",
       "        text-align: right;\n",
       "    }\n",
       "</style>\n",
       "<table border=\"1\" class=\"dataframe\">\n",
       "  <thead>\n",
       "    <tr style=\"text-align: right;\">\n",
       "      <th></th>\n",
       "      <th>Student ID</th>\n",
       "      <th>student_name</th>\n",
       "      <th>gender</th>\n",
       "      <th>grade</th>\n",
       "      <th>school_name</th>\n",
       "      <th>reading_score</th>\n",
       "      <th>math_score</th>\n",
       "      <th>School ID</th>\n",
       "      <th>type</th>\n",
       "      <th>size</th>\n",
       "      <th>budget</th>\n",
       "    </tr>\n",
       "  </thead>\n",
       "  <tbody>\n",
       "    <tr>\n",
       "      <th>19584</th>\n",
       "      <td>19584</td>\n",
       "      <td>Tammie Fox</td>\n",
       "      <td>F</td>\n",
       "      <td>11th</td>\n",
       "      <td>Bailey High School</td>\n",
       "      <td>82</td>\n",
       "      <td>92</td>\n",
       "      <td>7</td>\n",
       "      <td>District</td>\n",
       "      <td>4976</td>\n",
       "      <td>3124928</td>\n",
       "    </tr>\n",
       "    <tr>\n",
       "      <th>21193</th>\n",
       "      <td>21193</td>\n",
       "      <td>Jennifer Murray</td>\n",
       "      <td>F</td>\n",
       "      <td>9th</td>\n",
       "      <td>Bailey High School</td>\n",
       "      <td>88</td>\n",
       "      <td>89</td>\n",
       "      <td>7</td>\n",
       "      <td>District</td>\n",
       "      <td>4976</td>\n",
       "      <td>3124928</td>\n",
       "    </tr>\n",
       "    <tr>\n",
       "      <th>21192</th>\n",
       "      <td>21192</td>\n",
       "      <td>Lisa Pineda</td>\n",
       "      <td>F</td>\n",
       "      <td>9th</td>\n",
       "      <td>Bailey High School</td>\n",
       "      <td>86</td>\n",
       "      <td>67</td>\n",
       "      <td>7</td>\n",
       "      <td>District</td>\n",
       "      <td>4976</td>\n",
       "      <td>3124928</td>\n",
       "    </tr>\n",
       "    <tr>\n",
       "      <th>21191</th>\n",
       "      <td>21191</td>\n",
       "      <td>Cameron Miller</td>\n",
       "      <td>M</td>\n",
       "      <td>11th</td>\n",
       "      <td>Bailey High School</td>\n",
       "      <td>70</td>\n",
       "      <td>75</td>\n",
       "      <td>7</td>\n",
       "      <td>District</td>\n",
       "      <td>4976</td>\n",
       "      <td>3124928</td>\n",
       "    </tr>\n",
       "    <tr>\n",
       "      <th>21190</th>\n",
       "      <td>21190</td>\n",
       "      <td>Thomas Rasmussen</td>\n",
       "      <td>M</td>\n",
       "      <td>12th</td>\n",
       "      <td>Bailey High School</td>\n",
       "      <td>77</td>\n",
       "      <td>82</td>\n",
       "      <td>7</td>\n",
       "      <td>District</td>\n",
       "      <td>4976</td>\n",
       "      <td>3124928</td>\n",
       "    </tr>\n",
       "  </tbody>\n",
       "</table>\n",
       "</div>"
      ],
      "text/plain": [
       "       Student ID      student_name gender grade         school_name  \\\n",
       "19584       19584        Tammie Fox      F  11th  Bailey High School   \n",
       "21193       21193   Jennifer Murray      F   9th  Bailey High School   \n",
       "21192       21192       Lisa Pineda      F   9th  Bailey High School   \n",
       "21191       21191    Cameron Miller      M  11th  Bailey High School   \n",
       "21190       21190  Thomas Rasmussen      M  12th  Bailey High School   \n",
       "\n",
       "       reading_score  math_score  School ID      type  size   budget  \n",
       "19584             82          92          7  District  4976  3124928  \n",
       "21193             88          89          7  District  4976  3124928  \n",
       "21192             86          67          7  District  4976  3124928  \n",
       "21191             70          75          7  District  4976  3124928  \n",
       "21190             77          82          7  District  4976  3124928  "
      ]
     },
     "execution_count": 33,
     "metadata": {},
     "output_type": "execute_result"
    }
   ],
   "source": [
    "school_data_complete.head()"
   ]
  },
  {
   "cell_type": "code",
   "execution_count": 34,
   "metadata": {},
   "outputs": [
    {
     "data": {
      "text/html": [
       "<div>\n",
       "<style scoped>\n",
       "    .dataframe tbody tr th:only-of-type {\n",
       "        vertical-align: middle;\n",
       "    }\n",
       "\n",
       "    .dataframe tbody tr th {\n",
       "        vertical-align: top;\n",
       "    }\n",
       "\n",
       "    .dataframe thead th {\n",
       "        text-align: right;\n",
       "    }\n",
       "</style>\n",
       "<table border=\"1\" class=\"dataframe\">\n",
       "  <thead>\n",
       "    <tr style=\"text-align: right;\">\n",
       "      <th></th>\n",
       "      <th>school_name</th>\n",
       "      <th>math_score</th>\n",
       "      <th>reading_score</th>\n",
       "      <th>size</th>\n",
       "      <th>budget</th>\n",
       "      <th>type</th>\n",
       "    </tr>\n",
       "  </thead>\n",
       "  <tbody>\n",
       "    <tr>\n",
       "      <th>19584</th>\n",
       "      <td>Bailey High School</td>\n",
       "      <td>92</td>\n",
       "      <td>82</td>\n",
       "      <td>4976</td>\n",
       "      <td>3124928</td>\n",
       "      <td>District</td>\n",
       "    </tr>\n",
       "    <tr>\n",
       "      <th>21193</th>\n",
       "      <td>Bailey High School</td>\n",
       "      <td>89</td>\n",
       "      <td>88</td>\n",
       "      <td>4976</td>\n",
       "      <td>3124928</td>\n",
       "      <td>District</td>\n",
       "    </tr>\n",
       "    <tr>\n",
       "      <th>21192</th>\n",
       "      <td>Bailey High School</td>\n",
       "      <td>67</td>\n",
       "      <td>86</td>\n",
       "      <td>4976</td>\n",
       "      <td>3124928</td>\n",
       "      <td>District</td>\n",
       "    </tr>\n",
       "    <tr>\n",
       "      <th>21191</th>\n",
       "      <td>Bailey High School</td>\n",
       "      <td>75</td>\n",
       "      <td>70</td>\n",
       "      <td>4976</td>\n",
       "      <td>3124928</td>\n",
       "      <td>District</td>\n",
       "    </tr>\n",
       "    <tr>\n",
       "      <th>21190</th>\n",
       "      <td>Bailey High School</td>\n",
       "      <td>82</td>\n",
       "      <td>77</td>\n",
       "      <td>4976</td>\n",
       "      <td>3124928</td>\n",
       "      <td>District</td>\n",
       "    </tr>\n",
       "  </tbody>\n",
       "</table>\n",
       "</div>"
      ],
      "text/plain": [
       "              school_name  math_score  reading_score  size   budget      type\n",
       "19584  Bailey High School          92             82  4976  3124928  District\n",
       "21193  Bailey High School          89             88  4976  3124928  District\n",
       "21192  Bailey High School          67             86  4976  3124928  District\n",
       "21191  Bailey High School          75             70  4976  3124928  District\n",
       "21190  Bailey High School          82             77  4976  3124928  District"
      ]
     },
     "execution_count": 34,
     "metadata": {},
     "output_type": "execute_result"
    }
   ],
   "source": [
    "# Group together relevant previously ran scripts to use in further computations\n",
    "scores_by_school_columns = ['school_name','math_score', 'reading_score', 'size', 'budget', 'type']\n",
    "relevant_school_data = school_data_complete[scores_by_school_columns]\n",
    "relevant_school_data.head()"
   ]
  },
  {
   "cell_type": "markdown",
   "metadata": {},
   "source": [
    "## Calculate Budget per Student Reletive to School Spending"
   ]
  },
  {
   "cell_type": "code",
   "execution_count": 35,
   "metadata": {},
   "outputs": [
    {
     "data": {
      "text/html": [
       "<div>\n",
       "<style scoped>\n",
       "    .dataframe tbody tr th:only-of-type {\n",
       "        vertical-align: middle;\n",
       "    }\n",
       "\n",
       "    .dataframe tbody tr th {\n",
       "        vertical-align: top;\n",
       "    }\n",
       "\n",
       "    .dataframe thead th {\n",
       "        text-align: right;\n",
       "    }\n",
       "</style>\n",
       "<table border=\"1\" class=\"dataframe\">\n",
       "  <thead>\n",
       "    <tr style=\"text-align: right;\">\n",
       "      <th></th>\n",
       "      <th>Student ID</th>\n",
       "      <th>student_name</th>\n",
       "      <th>gender</th>\n",
       "      <th>grade</th>\n",
       "      <th>school_name</th>\n",
       "      <th>reading_score</th>\n",
       "      <th>math_score</th>\n",
       "      <th>School ID</th>\n",
       "      <th>type</th>\n",
       "      <th>size</th>\n",
       "      <th>budget</th>\n",
       "      <th>budget_per_student</th>\n",
       "    </tr>\n",
       "  </thead>\n",
       "  <tbody>\n",
       "    <tr>\n",
       "      <th>19584</th>\n",
       "      <td>19584</td>\n",
       "      <td>Tammie Fox</td>\n",
       "      <td>F</td>\n",
       "      <td>11th</td>\n",
       "      <td>Bailey High School</td>\n",
       "      <td>82</td>\n",
       "      <td>92</td>\n",
       "      <td>7</td>\n",
       "      <td>District</td>\n",
       "      <td>4976</td>\n",
       "      <td>3124928</td>\n",
       "      <td>628.0</td>\n",
       "    </tr>\n",
       "    <tr>\n",
       "      <th>21193</th>\n",
       "      <td>21193</td>\n",
       "      <td>Jennifer Murray</td>\n",
       "      <td>F</td>\n",
       "      <td>9th</td>\n",
       "      <td>Bailey High School</td>\n",
       "      <td>88</td>\n",
       "      <td>89</td>\n",
       "      <td>7</td>\n",
       "      <td>District</td>\n",
       "      <td>4976</td>\n",
       "      <td>3124928</td>\n",
       "      <td>628.0</td>\n",
       "    </tr>\n",
       "    <tr>\n",
       "      <th>21192</th>\n",
       "      <td>21192</td>\n",
       "      <td>Lisa Pineda</td>\n",
       "      <td>F</td>\n",
       "      <td>9th</td>\n",
       "      <td>Bailey High School</td>\n",
       "      <td>86</td>\n",
       "      <td>67</td>\n",
       "      <td>7</td>\n",
       "      <td>District</td>\n",
       "      <td>4976</td>\n",
       "      <td>3124928</td>\n",
       "      <td>628.0</td>\n",
       "    </tr>\n",
       "    <tr>\n",
       "      <th>21191</th>\n",
       "      <td>21191</td>\n",
       "      <td>Cameron Miller</td>\n",
       "      <td>M</td>\n",
       "      <td>11th</td>\n",
       "      <td>Bailey High School</td>\n",
       "      <td>70</td>\n",
       "      <td>75</td>\n",
       "      <td>7</td>\n",
       "      <td>District</td>\n",
       "      <td>4976</td>\n",
       "      <td>3124928</td>\n",
       "      <td>628.0</td>\n",
       "    </tr>\n",
       "    <tr>\n",
       "      <th>21190</th>\n",
       "      <td>21190</td>\n",
       "      <td>Thomas Rasmussen</td>\n",
       "      <td>M</td>\n",
       "      <td>12th</td>\n",
       "      <td>Bailey High School</td>\n",
       "      <td>77</td>\n",
       "      <td>82</td>\n",
       "      <td>7</td>\n",
       "      <td>District</td>\n",
       "      <td>4976</td>\n",
       "      <td>3124928</td>\n",
       "      <td>628.0</td>\n",
       "    </tr>\n",
       "  </tbody>\n",
       "</table>\n",
       "</div>"
      ],
      "text/plain": [
       "       Student ID      student_name gender grade         school_name  \\\n",
       "19584       19584        Tammie Fox      F  11th  Bailey High School   \n",
       "21193       21193   Jennifer Murray      F   9th  Bailey High School   \n",
       "21192       21192       Lisa Pineda      F   9th  Bailey High School   \n",
       "21191       21191    Cameron Miller      M  11th  Bailey High School   \n",
       "21190       21190  Thomas Rasmussen      M  12th  Bailey High School   \n",
       "\n",
       "       reading_score  math_score  School ID      type  size   budget  \\\n",
       "19584             82          92          7  District  4976  3124928   \n",
       "21193             88          89          7  District  4976  3124928   \n",
       "21192             86          67          7  District  4976  3124928   \n",
       "21191             70          75          7  District  4976  3124928   \n",
       "21190             77          82          7  District  4976  3124928   \n",
       "\n",
       "       budget_per_student  \n",
       "19584               628.0  \n",
       "21193               628.0  \n",
       "21192               628.0  \n",
       "21191               628.0  \n",
       "21190               628.0  "
      ]
     },
     "execution_count": 35,
     "metadata": {},
     "output_type": "execute_result"
    }
   ],
   "source": [
    "# budget per student\n",
    "budget_per_student = relevant_school_data[\"budget\"] / relevant_school_data[\"size\"]\n",
    "\n",
    "# Assign 'budget per student' to add column\n",
    "school_data_with_budget_per_student = school_data_complete.assign(budget_per_student = budget_per_student)\n",
    "school_data_with_budget_per_student.head()"
   ]
  },
  {
   "cell_type": "markdown",
   "metadata": {},
   "source": [
    "## Create Budget per Student Relative to School Spending Column"
   ]
  },
  {
   "cell_type": "code",
   "execution_count": 36,
   "metadata": {},
   "outputs": [
    {
     "data": {
      "text/plain": [
       "19584    $610-640\n",
       "21193    $610-640\n",
       "21192    $610-640\n",
       "21191    $610-640\n",
       "21190    $610-640\n",
       "Name: budget_per_student, dtype: category\n",
       "Categories (4, object): [<$580 < $580-610 < $610-640 < $640-670]"
      ]
     },
     "execution_count": 36,
     "metadata": {},
     "output_type": "execute_result"
    }
   ],
   "source": [
    "# grouping based previous spending bins and assign labels, used pd.cuts\n",
    "budget_groups = pd.cut(school_data_with_budget_per_student['budget_per_student'], spending_bins,labels=group_names)\n",
    "\n",
    "# convert these new groups to dataframe\n",
    "budget_groups_binned = budget_groups.to_frame()['budget_per_student']\n",
    "budget_groups_binned.head()"
   ]
  },
  {
   "cell_type": "code",
   "execution_count": 37,
   "metadata": {},
   "outputs": [
    {
     "data": {
      "text/html": [
       "<div>\n",
       "<style scoped>\n",
       "    .dataframe tbody tr th:only-of-type {\n",
       "        vertical-align: middle;\n",
       "    }\n",
       "\n",
       "    .dataframe tbody tr th {\n",
       "        vertical-align: top;\n",
       "    }\n",
       "\n",
       "    .dataframe thead th {\n",
       "        text-align: right;\n",
       "    }\n",
       "</style>\n",
       "<table border=\"1\" class=\"dataframe\">\n",
       "  <thead>\n",
       "    <tr style=\"text-align: right;\">\n",
       "      <th></th>\n",
       "      <th>Student ID</th>\n",
       "      <th>student_name</th>\n",
       "      <th>gender</th>\n",
       "      <th>grade</th>\n",
       "      <th>school_name</th>\n",
       "      <th>reading_score</th>\n",
       "      <th>math_score</th>\n",
       "      <th>School ID</th>\n",
       "      <th>type</th>\n",
       "      <th>size</th>\n",
       "      <th>budget</th>\n",
       "      <th>budget_per_student</th>\n",
       "      <th>budget_groups</th>\n",
       "    </tr>\n",
       "  </thead>\n",
       "  <tbody>\n",
       "    <tr>\n",
       "      <th>19584</th>\n",
       "      <td>19584</td>\n",
       "      <td>Tammie Fox</td>\n",
       "      <td>F</td>\n",
       "      <td>11th</td>\n",
       "      <td>Bailey High School</td>\n",
       "      <td>82</td>\n",
       "      <td>92</td>\n",
       "      <td>7</td>\n",
       "      <td>District</td>\n",
       "      <td>4976</td>\n",
       "      <td>3124928</td>\n",
       "      <td>628.0</td>\n",
       "      <td>$610-640</td>\n",
       "    </tr>\n",
       "    <tr>\n",
       "      <th>21193</th>\n",
       "      <td>21193</td>\n",
       "      <td>Jennifer Murray</td>\n",
       "      <td>F</td>\n",
       "      <td>9th</td>\n",
       "      <td>Bailey High School</td>\n",
       "      <td>88</td>\n",
       "      <td>89</td>\n",
       "      <td>7</td>\n",
       "      <td>District</td>\n",
       "      <td>4976</td>\n",
       "      <td>3124928</td>\n",
       "      <td>628.0</td>\n",
       "      <td>$610-640</td>\n",
       "    </tr>\n",
       "    <tr>\n",
       "      <th>21192</th>\n",
       "      <td>21192</td>\n",
       "      <td>Lisa Pineda</td>\n",
       "      <td>F</td>\n",
       "      <td>9th</td>\n",
       "      <td>Bailey High School</td>\n",
       "      <td>86</td>\n",
       "      <td>67</td>\n",
       "      <td>7</td>\n",
       "      <td>District</td>\n",
       "      <td>4976</td>\n",
       "      <td>3124928</td>\n",
       "      <td>628.0</td>\n",
       "      <td>$610-640</td>\n",
       "    </tr>\n",
       "    <tr>\n",
       "      <th>21191</th>\n",
       "      <td>21191</td>\n",
       "      <td>Cameron Miller</td>\n",
       "      <td>M</td>\n",
       "      <td>11th</td>\n",
       "      <td>Bailey High School</td>\n",
       "      <td>70</td>\n",
       "      <td>75</td>\n",
       "      <td>7</td>\n",
       "      <td>District</td>\n",
       "      <td>4976</td>\n",
       "      <td>3124928</td>\n",
       "      <td>628.0</td>\n",
       "      <td>$610-640</td>\n",
       "    </tr>\n",
       "    <tr>\n",
       "      <th>21190</th>\n",
       "      <td>21190</td>\n",
       "      <td>Thomas Rasmussen</td>\n",
       "      <td>M</td>\n",
       "      <td>12th</td>\n",
       "      <td>Bailey High School</td>\n",
       "      <td>77</td>\n",
       "      <td>82</td>\n",
       "      <td>7</td>\n",
       "      <td>District</td>\n",
       "      <td>4976</td>\n",
       "      <td>3124928</td>\n",
       "      <td>628.0</td>\n",
       "      <td>$610-640</td>\n",
       "    </tr>\n",
       "  </tbody>\n",
       "</table>\n",
       "</div>"
      ],
      "text/plain": [
       "       Student ID      student_name gender grade         school_name  \\\n",
       "19584       19584        Tammie Fox      F  11th  Bailey High School   \n",
       "21193       21193   Jennifer Murray      F   9th  Bailey High School   \n",
       "21192       21192       Lisa Pineda      F   9th  Bailey High School   \n",
       "21191       21191    Cameron Miller      M  11th  Bailey High School   \n",
       "21190       21190  Thomas Rasmussen      M  12th  Bailey High School   \n",
       "\n",
       "       reading_score  math_score  School ID      type  size   budget  \\\n",
       "19584             82          92          7  District  4976  3124928   \n",
       "21193             88          89          7  District  4976  3124928   \n",
       "21192             86          67          7  District  4976  3124928   \n",
       "21191             70          75          7  District  4976  3124928   \n",
       "21190             77          82          7  District  4976  3124928   \n",
       "\n",
       "       budget_per_student budget_groups  \n",
       "19584               628.0      $610-640  \n",
       "21193               628.0      $610-640  \n",
       "21192               628.0      $610-640  \n",
       "21191               628.0      $610-640  \n",
       "21190               628.0      $610-640  "
      ]
     },
     "execution_count": 37,
     "metadata": {},
     "output_type": "execute_result"
    }
   ],
   "source": [
    "# Assign 'budget groups' column\n",
    "school_data_with_budgets = school_data_with_budget_per_student.assign(budget_groups=budget_groups_binned)\n",
    "school_data_with_budgets.head()"
   ]
  },
  {
   "cell_type": "code",
   "execution_count": 38,
   "metadata": {},
   "outputs": [
    {
     "data": {
      "text/html": [
       "<div>\n",
       "<style scoped>\n",
       "    .dataframe tbody tr th:only-of-type {\n",
       "        vertical-align: middle;\n",
       "    }\n",
       "\n",
       "    .dataframe tbody tr th {\n",
       "        vertical-align: top;\n",
       "    }\n",
       "\n",
       "    .dataframe thead th {\n",
       "        text-align: right;\n",
       "    }\n",
       "</style>\n",
       "<table border=\"1\" class=\"dataframe\">\n",
       "  <thead>\n",
       "    <tr style=\"text-align: right;\">\n",
       "      <th></th>\n",
       "      <th>Student ID</th>\n",
       "      <th>reading_score</th>\n",
       "      <th>math_score</th>\n",
       "      <th>School ID</th>\n",
       "      <th>size</th>\n",
       "      <th>budget</th>\n",
       "      <th>budget_per_student</th>\n",
       "    </tr>\n",
       "  </thead>\n",
       "  <tbody>\n",
       "    <tr>\n",
       "      <th>count</th>\n",
       "      <td>39170.000000</td>\n",
       "      <td>39170.00000</td>\n",
       "      <td>39170.000000</td>\n",
       "      <td>39170.000000</td>\n",
       "      <td>39170.000000</td>\n",
       "      <td>3.917000e+04</td>\n",
       "      <td>39170.000000</td>\n",
       "    </tr>\n",
       "    <tr>\n",
       "      <th>mean</th>\n",
       "      <td>19584.500000</td>\n",
       "      <td>81.87784</td>\n",
       "      <td>78.985371</td>\n",
       "      <td>6.978172</td>\n",
       "      <td>3332.957110</td>\n",
       "      <td>2.117241e+06</td>\n",
       "      <td>629.293541</td>\n",
       "    </tr>\n",
       "    <tr>\n",
       "      <th>std</th>\n",
       "      <td>11307.549359</td>\n",
       "      <td>10.23958</td>\n",
       "      <td>12.309968</td>\n",
       "      <td>4.444329</td>\n",
       "      <td>1323.914069</td>\n",
       "      <td>8.749987e+05</td>\n",
       "      <td>25.034815</td>\n",
       "    </tr>\n",
       "    <tr>\n",
       "      <th>min</th>\n",
       "      <td>0.000000</td>\n",
       "      <td>63.00000</td>\n",
       "      <td>55.000000</td>\n",
       "      <td>0.000000</td>\n",
       "      <td>427.000000</td>\n",
       "      <td>2.480870e+05</td>\n",
       "      <td>578.000000</td>\n",
       "    </tr>\n",
       "    <tr>\n",
       "      <th>25%</th>\n",
       "      <td>9792.250000</td>\n",
       "      <td>73.00000</td>\n",
       "      <td>69.000000</td>\n",
       "      <td>3.000000</td>\n",
       "      <td>1858.000000</td>\n",
       "      <td>1.081356e+06</td>\n",
       "      <td>625.000000</td>\n",
       "    </tr>\n",
       "    <tr>\n",
       "      <th>50%</th>\n",
       "      <td>19584.500000</td>\n",
       "      <td>82.00000</td>\n",
       "      <td>79.000000</td>\n",
       "      <td>7.000000</td>\n",
       "      <td>2949.000000</td>\n",
       "      <td>1.910635e+06</td>\n",
       "      <td>638.000000</td>\n",
       "    </tr>\n",
       "    <tr>\n",
       "      <th>75%</th>\n",
       "      <td>29376.750000</td>\n",
       "      <td>91.00000</td>\n",
       "      <td>89.000000</td>\n",
       "      <td>11.000000</td>\n",
       "      <td>4635.000000</td>\n",
       "      <td>3.022020e+06</td>\n",
       "      <td>650.000000</td>\n",
       "    </tr>\n",
       "    <tr>\n",
       "      <th>max</th>\n",
       "      <td>39169.000000</td>\n",
       "      <td>99.00000</td>\n",
       "      <td>99.000000</td>\n",
       "      <td>14.000000</td>\n",
       "      <td>4976.000000</td>\n",
       "      <td>3.124928e+06</td>\n",
       "      <td>655.000000</td>\n",
       "    </tr>\n",
       "  </tbody>\n",
       "</table>\n",
       "</div>"
      ],
      "text/plain": [
       "         Student ID  reading_score    math_score     School ID          size  \\\n",
       "count  39170.000000    39170.00000  39170.000000  39170.000000  39170.000000   \n",
       "mean   19584.500000       81.87784     78.985371      6.978172   3332.957110   \n",
       "std    11307.549359       10.23958     12.309968      4.444329   1323.914069   \n",
       "min        0.000000       63.00000     55.000000      0.000000    427.000000   \n",
       "25%     9792.250000       73.00000     69.000000      3.000000   1858.000000   \n",
       "50%    19584.500000       82.00000     79.000000      7.000000   2949.000000   \n",
       "75%    29376.750000       91.00000     89.000000     11.000000   4635.000000   \n",
       "max    39169.000000       99.00000     99.000000     14.000000   4976.000000   \n",
       "\n",
       "             budget  budget_per_student  \n",
       "count  3.917000e+04        39170.000000  \n",
       "mean   2.117241e+06          629.293541  \n",
       "std    8.749987e+05           25.034815  \n",
       "min    2.480870e+05          578.000000  \n",
       "25%    1.081356e+06          625.000000  \n",
       "50%    1.910635e+06          638.000000  \n",
       "75%    3.022020e+06          650.000000  \n",
       "max    3.124928e+06          655.000000  "
      ]
     },
     "execution_count": 38,
     "metadata": {},
     "output_type": "execute_result"
    }
   ],
   "source": [
    "school_data_with_budgets.describe()"
   ]
  },
  {
   "cell_type": "code",
   "execution_count": 39,
   "metadata": {},
   "outputs": [],
   "source": [
    "# Group by budget group\n",
    "grouped_with_budgets = school_data_with_budgets.groupby('budget_groups')"
   ]
  },
  {
   "cell_type": "markdown",
   "metadata": {},
   "source": [
    "## Calculate Average Math Score relative to School Spending"
   ]
  },
  {
   "cell_type": "code",
   "execution_count": 40,
   "metadata": {},
   "outputs": [
    {
     "data": {
      "text/plain": [
       "budget_groups\n",
       "<$580       83.274201\n",
       "$580-610    83.459313\n",
       "$610-640    78.236441\n",
       "$640-670    77.058995\n",
       "Name: math_score, dtype: float64"
      ]
     },
     "execution_count": 40,
     "metadata": {},
     "output_type": "execute_result"
    }
   ],
   "source": [
    "average_math_score_by_budget = grouped_with_budgets['math_score'].mean()\n",
    "average_math_score_by_budget.head()"
   ]
  },
  {
   "cell_type": "markdown",
   "metadata": {},
   "source": [
    "## Calculate Average Reading Score relative to School Spending"
   ]
  },
  {
   "cell_type": "code",
   "execution_count": 41,
   "metadata": {},
   "outputs": [
    {
     "data": {
      "text/plain": [
       "budget_groups\n",
       "<$580       83.989488\n",
       "$580-610    83.905259\n",
       "$610-640    81.559460\n",
       "$640-670    80.958411\n",
       "Name: reading_score, dtype: float64"
      ]
     },
     "execution_count": 41,
     "metadata": {},
     "output_type": "execute_result"
    }
   ],
   "source": [
    "average_reading_score_by_budget = grouped_with_budgets['reading_score'].mean()\n",
    "average_reading_score_by_budget.head()"
   ]
  },
  {
   "cell_type": "markdown",
   "metadata": {},
   "source": [
    "## Calculate Total Students relative to School Spending"
   ]
  },
  {
   "cell_type": "code",
   "execution_count": 42,
   "metadata": {},
   "outputs": [
    {
     "data": {
      "text/plain": [
       "array([ 2283,  6808, 15027, 15052], dtype=int64)"
      ]
     },
     "execution_count": 42,
     "metadata": {},
     "output_type": "execute_result"
    }
   ],
   "source": [
    "total_students_by_budget = school_data_with_budgets.groupby('budget_groups').count()['Student ID'].values\n",
    "total_students_by_budget"
   ]
  },
  {
   "cell_type": "markdown",
   "metadata": {},
   "source": [
    "## Calculate Percent Passing Math relative to School Spending"
   ]
  },
  {
   "cell_type": "code",
   "execution_count": 43,
   "metadata": {},
   "outputs": [
    {
     "data": {
      "text/plain": [
       "array([93.86771792, 93.81609871, 71.9637985 , 66.60908849])"
      ]
     },
     "execution_count": 43,
     "metadata": {},
     "output_type": "execute_result"
    }
   ],
   "source": [
    "passing_math_by_budget_count = school_data_with_budgets[school_data_with_budgets['math_score'] >= 70].groupby('budget_groups').count()['Student ID'].values\n",
    "percent_passing_math_by_budget = passing_math_by_budget_count / total_students_by_budget * 100\n",
    "percent_passing_math_by_budget"
   ]
  },
  {
   "cell_type": "markdown",
   "metadata": {},
   "source": [
    "## Calculate Percent Passing Reading relative to School Spending"
   ]
  },
  {
   "cell_type": "code",
   "execution_count": 44,
   "metadata": {},
   "outputs": [
    {
     "data": {
      "text/plain": [
       "array([96.53964082, 96.4159812 , 84.40141079, 80.7799628 ])"
      ]
     },
     "execution_count": 44,
     "metadata": {},
     "output_type": "execute_result"
    }
   ],
   "source": [
    "passing_reading_by_budget_count = school_data_with_budgets[school_data_with_budgets['reading_score'] >= 70].groupby('budget_groups').count()['Student ID'].values\n",
    "percent_passing_reading_by_budget = passing_reading_by_budget_count / total_students_by_budget * 100\n",
    "percent_passing_reading_by_budget"
   ]
  },
  {
   "cell_type": "markdown",
   "metadata": {},
   "source": [
    "## Calculate Overall Passing Rate relative to School Spending"
   ]
  },
  {
   "cell_type": "code",
   "execution_count": 45,
   "metadata": {},
   "outputs": [
    {
     "data": {
      "text/plain": [
       "array([95.20367937, 95.11603995, 78.18260464, 73.69452564])"
      ]
     },
     "execution_count": 45,
     "metadata": {},
     "output_type": "execute_result"
    }
   ],
   "source": [
    "percent_overall_passing_by_budget = (percent_passing_math_by_budget + percent_passing_reading_by_budget) / 2\n",
    "percent_overall_passing_by_budget"
   ]
  },
  {
   "cell_type": "code",
   "execution_count": 46,
   "metadata": {},
   "outputs": [
    {
     "data": {
      "text/html": [
       "<div>\n",
       "<style scoped>\n",
       "    .dataframe tbody tr th:only-of-type {\n",
       "        vertical-align: middle;\n",
       "    }\n",
       "\n",
       "    .dataframe tbody tr th {\n",
       "        vertical-align: top;\n",
       "    }\n",
       "\n",
       "    .dataframe thead th {\n",
       "        text-align: right;\n",
       "    }\n",
       "</style>\n",
       "<table border=\"1\" class=\"dataframe\">\n",
       "  <thead>\n",
       "    <tr style=\"text-align: right;\">\n",
       "      <th></th>\n",
       "      <th>Average Math Score</th>\n",
       "      <th>Average Reading Score</th>\n",
       "      <th>% Passing Math</th>\n",
       "      <th>% Passing Reading</th>\n",
       "      <th>% Overall Passing Rate</th>\n",
       "    </tr>\n",
       "    <tr>\n",
       "      <th>budget_groups</th>\n",
       "      <th></th>\n",
       "      <th></th>\n",
       "      <th></th>\n",
       "      <th></th>\n",
       "      <th></th>\n",
       "    </tr>\n",
       "  </thead>\n",
       "  <tbody>\n",
       "    <tr>\n",
       "      <th>&lt;$580</th>\n",
       "      <td>83.274201</td>\n",
       "      <td>83.989488</td>\n",
       "      <td>93.867718</td>\n",
       "      <td>96.539641</td>\n",
       "      <td>95.203679</td>\n",
       "    </tr>\n",
       "    <tr>\n",
       "      <th>$580-610</th>\n",
       "      <td>83.459313</td>\n",
       "      <td>83.905259</td>\n",
       "      <td>93.816099</td>\n",
       "      <td>96.415981</td>\n",
       "      <td>95.116040</td>\n",
       "    </tr>\n",
       "    <tr>\n",
       "      <th>$610-640</th>\n",
       "      <td>78.236441</td>\n",
       "      <td>81.559460</td>\n",
       "      <td>71.963798</td>\n",
       "      <td>84.401411</td>\n",
       "      <td>78.182605</td>\n",
       "    </tr>\n",
       "    <tr>\n",
       "      <th>$640-670</th>\n",
       "      <td>77.058995</td>\n",
       "      <td>80.958411</td>\n",
       "      <td>66.609088</td>\n",
       "      <td>80.779963</td>\n",
       "      <td>73.694526</td>\n",
       "    </tr>\n",
       "  </tbody>\n",
       "</table>\n",
       "</div>"
      ],
      "text/plain": [
       "               Average Math Score  Average Reading Score  % Passing Math  \\\n",
       "budget_groups                                                              \n",
       "<$580                   83.274201              83.989488       93.867718   \n",
       "$580-610                83.459313              83.905259       93.816099   \n",
       "$610-640                78.236441              81.559460       71.963798   \n",
       "$640-670                77.058995              80.958411       66.609088   \n",
       "\n",
       "               % Passing Reading  % Overall Passing Rate  \n",
       "budget_groups                                             \n",
       "<$580                  96.539641               95.203679  \n",
       "$580-610               96.415981               95.116040  \n",
       "$610-640               84.401411               78.182605  \n",
       "$640-670               80.779963               73.694526  "
      ]
     },
     "execution_count": 46,
     "metadata": {},
     "output_type": "execute_result"
    }
   ],
   "source": [
    "data_by_budget = {\n",
    "    'Average Math Score': average_math_score_by_budget,\n",
    "    'Average Reading Score': average_reading_score_by_budget,\n",
    "    '% Passing Math': percent_passing_math_by_budget,\n",
    "    '% Passing Reading': percent_passing_reading_by_budget,\n",
    "    '% Overall Passing Rate': percent_overall_passing_by_budget,\n",
    "}\n",
    "\n",
    "data_by_budget_df = pd.DataFrame(data_by_budget)\n",
    "data_by_budget_df.head()"
   ]
  },
  {
   "cell_type": "markdown",
   "metadata": {},
   "source": [
    "## Scores by School Size"
   ]
  },
  {
   "cell_type": "markdown",
   "metadata": {},
   "source": [
    "* Perform the same operations as above, based on school size."
   ]
  },
  {
   "cell_type": "code",
   "execution_count": 47,
   "metadata": {},
   "outputs": [],
   "source": [
    "# Sample bins. Feel free to create your own bins.\n",
    "size_bins = [0, 1000, 2000, 5000]\n",
    "group_names = [\"Small (<1000)\", \"Medium (1000-2000)\", \"Large (2000-5000)\"]"
   ]
  },
  {
   "cell_type": "code",
   "execution_count": 48,
   "metadata": {
    "scrolled": true
   },
   "outputs": [
    {
     "data": {
      "text/plain": [
       "39170"
      ]
     },
     "execution_count": 48,
     "metadata": {},
     "output_type": "execute_result"
    }
   ],
   "source": [
    "size_categories = pd.cut(relevant_school_data['size'], size_bins,labels=group_names)\n",
    "size_groups = size_categories.to_frame()\n",
    "len(size_groups)"
   ]
  },
  {
   "cell_type": "code",
   "execution_count": 49,
   "metadata": {},
   "outputs": [
    {
     "data": {
      "text/html": [
       "<div>\n",
       "<style scoped>\n",
       "    .dataframe tbody tr th:only-of-type {\n",
       "        vertical-align: middle;\n",
       "    }\n",
       "\n",
       "    .dataframe tbody tr th {\n",
       "        vertical-align: top;\n",
       "    }\n",
       "\n",
       "    .dataframe thead th {\n",
       "        text-align: right;\n",
       "    }\n",
       "</style>\n",
       "<table border=\"1\" class=\"dataframe\">\n",
       "  <thead>\n",
       "    <tr style=\"text-align: right;\">\n",
       "      <th></th>\n",
       "      <th>school_name</th>\n",
       "      <th>math_score</th>\n",
       "      <th>reading_score</th>\n",
       "      <th>size</th>\n",
       "      <th>budget</th>\n",
       "      <th>type</th>\n",
       "      <th>size_groups</th>\n",
       "    </tr>\n",
       "  </thead>\n",
       "  <tbody>\n",
       "    <tr>\n",
       "      <th>19584</th>\n",
       "      <td>Bailey High School</td>\n",
       "      <td>92</td>\n",
       "      <td>82</td>\n",
       "      <td>4976</td>\n",
       "      <td>3124928</td>\n",
       "      <td>District</td>\n",
       "      <td>Large (2000-5000)</td>\n",
       "    </tr>\n",
       "    <tr>\n",
       "      <th>21193</th>\n",
       "      <td>Bailey High School</td>\n",
       "      <td>89</td>\n",
       "      <td>88</td>\n",
       "      <td>4976</td>\n",
       "      <td>3124928</td>\n",
       "      <td>District</td>\n",
       "      <td>Large (2000-5000)</td>\n",
       "    </tr>\n",
       "    <tr>\n",
       "      <th>21192</th>\n",
       "      <td>Bailey High School</td>\n",
       "      <td>67</td>\n",
       "      <td>86</td>\n",
       "      <td>4976</td>\n",
       "      <td>3124928</td>\n",
       "      <td>District</td>\n",
       "      <td>Large (2000-5000)</td>\n",
       "    </tr>\n",
       "    <tr>\n",
       "      <th>21191</th>\n",
       "      <td>Bailey High School</td>\n",
       "      <td>75</td>\n",
       "      <td>70</td>\n",
       "      <td>4976</td>\n",
       "      <td>3124928</td>\n",
       "      <td>District</td>\n",
       "      <td>Large (2000-5000)</td>\n",
       "    </tr>\n",
       "    <tr>\n",
       "      <th>21190</th>\n",
       "      <td>Bailey High School</td>\n",
       "      <td>82</td>\n",
       "      <td>77</td>\n",
       "      <td>4976</td>\n",
       "      <td>3124928</td>\n",
       "      <td>District</td>\n",
       "      <td>Large (2000-5000)</td>\n",
       "    </tr>\n",
       "  </tbody>\n",
       "</table>\n",
       "</div>"
      ],
      "text/plain": [
       "              school_name  math_score  reading_score  size   budget      type  \\\n",
       "19584  Bailey High School          92             82  4976  3124928  District   \n",
       "21193  Bailey High School          89             88  4976  3124928  District   \n",
       "21192  Bailey High School          67             86  4976  3124928  District   \n",
       "21191  Bailey High School          75             70  4976  3124928  District   \n",
       "21190  Bailey High School          82             77  4976  3124928  District   \n",
       "\n",
       "             size_groups  \n",
       "19584  Large (2000-5000)  \n",
       "21193  Large (2000-5000)  \n",
       "21192  Large (2000-5000)  \n",
       "21191  Large (2000-5000)  \n",
       "21190  Large (2000-5000)  "
      ]
     },
     "execution_count": 49,
     "metadata": {},
     "output_type": "execute_result"
    }
   ],
   "source": [
    "school_data_with_groups = relevant_school_data.assign(size_groups=size_groups)\n",
    "school_data_with_groups.head()"
   ]
  },
  {
   "cell_type": "code",
   "execution_count": 50,
   "metadata": {},
   "outputs": [
    {
     "data": {
      "text/html": [
       "<div>\n",
       "<style scoped>\n",
       "    .dataframe tbody tr th:only-of-type {\n",
       "        vertical-align: middle;\n",
       "    }\n",
       "\n",
       "    .dataframe tbody tr th {\n",
       "        vertical-align: top;\n",
       "    }\n",
       "\n",
       "    .dataframe thead th {\n",
       "        text-align: right;\n",
       "    }\n",
       "</style>\n",
       "<table border=\"1\" class=\"dataframe\">\n",
       "  <thead>\n",
       "    <tr style=\"text-align: right;\">\n",
       "      <th></th>\n",
       "      <th>math_score</th>\n",
       "      <th>reading_score</th>\n",
       "      <th>size</th>\n",
       "      <th>budget</th>\n",
       "    </tr>\n",
       "    <tr>\n",
       "      <th>size_groups</th>\n",
       "      <th></th>\n",
       "      <th></th>\n",
       "      <th></th>\n",
       "      <th></th>\n",
       "    </tr>\n",
       "  </thead>\n",
       "  <tbody>\n",
       "    <tr>\n",
       "      <th>Large (2000-5000)</th>\n",
       "      <td>77.477597</td>\n",
       "      <td>81.198674</td>\n",
       "      <td>3924.352268</td>\n",
       "      <td>2.510395e+06</td>\n",
       "    </tr>\n",
       "    <tr>\n",
       "      <th>Medium (1000-2000)</th>\n",
       "      <td>83.372682</td>\n",
       "      <td>83.867989</td>\n",
       "      <td>1715.739732</td>\n",
       "      <td>1.033931e+06</td>\n",
       "    </tr>\n",
       "    <tr>\n",
       "      <th>Small (&lt;1000)</th>\n",
       "      <td>83.828654</td>\n",
       "      <td>83.974082</td>\n",
       "      <td>797.532757</td>\n",
       "      <td>4.820220e+05</td>\n",
       "    </tr>\n",
       "  </tbody>\n",
       "</table>\n",
       "</div>"
      ],
      "text/plain": [
       "                    math_score  reading_score         size        budget\n",
       "size_groups                                                             \n",
       "Large (2000-5000)    77.477597      81.198674  3924.352268  2.510395e+06\n",
       "Medium (1000-2000)   83.372682      83.867989  1715.739732  1.033931e+06\n",
       "Small (<1000)        83.828654      83.974082   797.532757  4.820220e+05"
      ]
     },
     "execution_count": 50,
     "metadata": {},
     "output_type": "execute_result"
    }
   ],
   "source": [
    "average_score_by_group = school_data_with_groups.groupby('size_groups').mean()\n",
    "average_score_by_group"
   ]
  },
  {
   "cell_type": "markdown",
   "metadata": {},
   "source": [
    "## Calculate Math Averege Passing Rate relative to School Size"
   ]
  },
  {
   "cell_type": "code",
   "execution_count": 51,
   "metadata": {},
   "outputs": [
    {
     "data": {
      "text/plain": [
       "size_groups\n",
       "Large (2000-5000)     77.477597\n",
       "Medium (1000-2000)    83.372682\n",
       "Small (<1000)         83.828654\n",
       "Name: math_score, dtype: float64"
      ]
     },
     "execution_count": 51,
     "metadata": {},
     "output_type": "execute_result"
    }
   ],
   "source": [
    "average_math_score_by_group = average_score_by_group['math_score']\n",
    "average_math_score_by_group"
   ]
  },
  {
   "cell_type": "markdown",
   "metadata": {},
   "source": [
    "## Calculate Reading Average Passing Rate relative to School Size"
   ]
  },
  {
   "cell_type": "code",
   "execution_count": 52,
   "metadata": {},
   "outputs": [
    {
     "data": {
      "text/plain": [
       "size_groups\n",
       "Large (2000-5000)     81.198674\n",
       "Medium (1000-2000)    83.867989\n",
       "Small (<1000)         83.974082\n",
       "Name: reading_score, dtype: float64"
      ]
     },
     "execution_count": 52,
     "metadata": {},
     "output_type": "execute_result"
    }
   ],
   "source": [
    "average_reading_score_by_group = average_score_by_group['reading_score']\n",
    "average_reading_score_by_group"
   ]
  },
  {
   "cell_type": "markdown",
   "metadata": {},
   "source": [
    "## Calculate Total Students relative to School Size"
   ]
  },
  {
   "cell_type": "code",
   "execution_count": 53,
   "metadata": {},
   "outputs": [
    {
     "data": {
      "text/plain": [
       "size_groups\n",
       "Large (2000-5000)     29259\n",
       "Medium (1000-2000)     8522\n",
       "Small (<1000)          1389\n",
       "Name: school_name, dtype: int64"
      ]
     },
     "execution_count": 53,
     "metadata": {},
     "output_type": "execute_result"
    }
   ],
   "source": [
    "total_students_groups = school_data_with_groups.groupby('size_groups').count()['school_name']\n",
    "total_students_groups"
   ]
  },
  {
   "cell_type": "markdown",
   "metadata": {},
   "source": [
    "## Calculate Math Percent Passing Rate relative to School Size"
   ]
  },
  {
   "cell_type": "code",
   "execution_count": 54,
   "metadata": {},
   "outputs": [
    {
     "data": {
      "text/plain": [
       "array([68.65238046, 93.61652194, 93.9524838 ])"
      ]
     },
     "execution_count": 54,
     "metadata": {},
     "output_type": "execute_result"
    }
   ],
   "source": [
    "passing_math_groups = school_data_with_groups[school_data_with_groups['math_score'] >= 70].groupby('size_groups').count()['school_name']\n",
    "percent_passing_math_groups = passing_math_groups.values / total_students_groups.values * 100\n",
    "percent_passing_math_groups"
   ]
  },
  {
   "cell_type": "markdown",
   "metadata": {},
   "source": [
    "## Calculate Reading percent Passing Rate relative to School Size"
   ]
  },
  {
   "cell_type": "code",
   "execution_count": 55,
   "metadata": {},
   "outputs": [
    {
     "data": {
      "text/plain": [
       "array([82.12515807, 96.77305797, 96.04031677])"
      ]
     },
     "execution_count": 55,
     "metadata": {},
     "output_type": "execute_result"
    }
   ],
   "source": [
    "passing_reading_groups = school_data_with_groups[school_data_with_groups['reading_score'] >= 70].groupby('size_groups').count()['school_name']\n",
    "percent_passing_reading_groups = passing_reading_groups.values / total_students_groups.values * 100\n",
    "percent_passing_reading_groups"
   ]
  },
  {
   "cell_type": "markdown",
   "metadata": {},
   "source": [
    "## Calculate Overall Passing Rate relative to School Size"
   ]
  },
  {
   "cell_type": "code",
   "execution_count": 56,
   "metadata": {},
   "outputs": [
    {
     "data": {
      "text/plain": [
       "array([75.38876927, 95.19478996, 94.99640029])"
      ]
     },
     "execution_count": 56,
     "metadata": {},
     "output_type": "execute_result"
    }
   ],
   "source": [
    "percent_overall_groups = (percent_passing_math_groups + percent_passing_reading_groups) / 2\n",
    "percent_overall_groups"
   ]
  },
  {
   "cell_type": "code",
   "execution_count": 57,
   "metadata": {},
   "outputs": [
    {
     "data": {
      "text/html": [
       "<div>\n",
       "<style scoped>\n",
       "    .dataframe tbody tr th:only-of-type {\n",
       "        vertical-align: middle;\n",
       "    }\n",
       "\n",
       "    .dataframe tbody tr th {\n",
       "        vertical-align: top;\n",
       "    }\n",
       "\n",
       "    .dataframe thead th {\n",
       "        text-align: right;\n",
       "    }\n",
       "</style>\n",
       "<table border=\"1\" class=\"dataframe\">\n",
       "  <thead>\n",
       "    <tr style=\"text-align: right;\">\n",
       "      <th></th>\n",
       "      <th>Average Math Score</th>\n",
       "      <th>Average Reading Score</th>\n",
       "      <th>% Passing Math</th>\n",
       "      <th>% Passing Reading</th>\n",
       "      <th>% Overall Passing Rate</th>\n",
       "    </tr>\n",
       "    <tr>\n",
       "      <th>size_groups</th>\n",
       "      <th></th>\n",
       "      <th></th>\n",
       "      <th></th>\n",
       "      <th></th>\n",
       "      <th></th>\n",
       "    </tr>\n",
       "  </thead>\n",
       "  <tbody>\n",
       "    <tr>\n",
       "      <th>Small (&lt;1000)</th>\n",
       "      <td>83.828654</td>\n",
       "      <td>83.974082</td>\n",
       "      <td>93.952484</td>\n",
       "      <td>96.040317</td>\n",
       "      <td>94.996400</td>\n",
       "    </tr>\n",
       "    <tr>\n",
       "      <th>Medium (1000-2000)</th>\n",
       "      <td>83.372682</td>\n",
       "      <td>83.867989</td>\n",
       "      <td>93.616522</td>\n",
       "      <td>96.773058</td>\n",
       "      <td>95.194790</td>\n",
       "    </tr>\n",
       "    <tr>\n",
       "      <th>Large (2000-5000)</th>\n",
       "      <td>77.477597</td>\n",
       "      <td>81.198674</td>\n",
       "      <td>68.652380</td>\n",
       "      <td>82.125158</td>\n",
       "      <td>75.388769</td>\n",
       "    </tr>\n",
       "  </tbody>\n",
       "</table>\n",
       "</div>"
      ],
      "text/plain": [
       "                    Average Math Score  Average Reading Score  % Passing Math  \\\n",
       "size_groups                                                                     \n",
       "Small (<1000)                83.828654              83.974082       93.952484   \n",
       "Medium (1000-2000)           83.372682              83.867989       93.616522   \n",
       "Large (2000-5000)            77.477597              81.198674       68.652380   \n",
       "\n",
       "                    % Passing Reading  % Overall Passing Rate  \n",
       "size_groups                                                    \n",
       "Small (<1000)               96.040317               94.996400  \n",
       "Medium (1000-2000)          96.773058               95.194790  \n",
       "Large (2000-5000)           82.125158               75.388769  "
      ]
     },
     "execution_count": 57,
     "metadata": {},
     "output_type": "execute_result"
    }
   ],
   "source": [
    "data_by_group = {\n",
    "    'Average Math Score': average_math_score_by_group,\n",
    "    'Average Reading Score': average_reading_score_by_group,\n",
    "    '% Passing Math': percent_passing_math_groups,\n",
    "    '% Passing Reading': percent_passing_reading_groups,\n",
    "    '% Overall Passing Rate': percent_overall_groups,\n",
    "}\n",
    "\n",
    "data_by_group_df = pd.DataFrame(data_by_group)\n",
    "data_by_group_df.sort_index(ascending=False).head()"
   ]
  },
  {
   "cell_type": "markdown",
   "metadata": {},
   "source": [
    "## Scores by School Type"
   ]
  },
  {
   "cell_type": "markdown",
   "metadata": {},
   "source": [
    "* Perform the same operations as above, based on school type."
   ]
  },
  {
   "cell_type": "code",
   "execution_count": 58,
   "metadata": {},
   "outputs": [
    {
     "data": {
      "text/html": [
       "<div>\n",
       "<style scoped>\n",
       "    .dataframe tbody tr th:only-of-type {\n",
       "        vertical-align: middle;\n",
       "    }\n",
       "\n",
       "    .dataframe tbody tr th {\n",
       "        vertical-align: top;\n",
       "    }\n",
       "\n",
       "    .dataframe thead th {\n",
       "        text-align: right;\n",
       "    }\n",
       "</style>\n",
       "<table border=\"1\" class=\"dataframe\">\n",
       "  <thead>\n",
       "    <tr style=\"text-align: right;\">\n",
       "      <th></th>\n",
       "      <th>math_score</th>\n",
       "      <th>reading_score</th>\n",
       "      <th>size</th>\n",
       "      <th>budget</th>\n",
       "    </tr>\n",
       "    <tr>\n",
       "      <th>type</th>\n",
       "      <th></th>\n",
       "      <th></th>\n",
       "      <th></th>\n",
       "      <th></th>\n",
       "    </tr>\n",
       "  </thead>\n",
       "  <tbody>\n",
       "    <tr>\n",
       "      <th>Charter</th>\n",
       "      <td>83.406183</td>\n",
       "      <td>83.902821</td>\n",
       "      <td>1717.352468</td>\n",
       "      <td>1.024543e+06</td>\n",
       "    </tr>\n",
       "    <tr>\n",
       "      <th>District</th>\n",
       "      <td>76.987026</td>\n",
       "      <td>80.962485</td>\n",
       "      <td>4063.261195</td>\n",
       "      <td>2.611175e+06</td>\n",
       "    </tr>\n",
       "  </tbody>\n",
       "</table>\n",
       "</div>"
      ],
      "text/plain": [
       "          math_score  reading_score         size        budget\n",
       "type                                                          \n",
       "Charter    83.406183      83.902821  1717.352468  1.024543e+06\n",
       "District   76.987026      80.962485  4063.261195  2.611175e+06"
      ]
     },
     "execution_count": 58,
     "metadata": {},
     "output_type": "execute_result"
    }
   ],
   "source": [
    "average_score_by_type = relevant_school_data.groupby('type').mean()\n",
    "average_score_by_type"
   ]
  },
  {
   "cell_type": "markdown",
   "metadata": {},
   "source": [
    "## Calculate Math Averege Passing Rate relative to School Type"
   ]
  },
  {
   "cell_type": "code",
   "execution_count": 59,
   "metadata": {},
   "outputs": [
    {
     "data": {
      "text/plain": [
       "type\n",
       "Charter     83.406183\n",
       "District    76.987026\n",
       "Name: math_score, dtype: float64"
      ]
     },
     "execution_count": 59,
     "metadata": {},
     "output_type": "execute_result"
    }
   ],
   "source": [
    "average_math_type = average_score_by_type['math_score']\n",
    "average_math_type"
   ]
  },
  {
   "cell_type": "markdown",
   "metadata": {},
   "source": [
    "## Calculate Reading Average Passing Rate relative to School Type"
   ]
  },
  {
   "cell_type": "code",
   "execution_count": 60,
   "metadata": {},
   "outputs": [
    {
     "data": {
      "text/plain": [
       "type\n",
       "Charter     83.902821\n",
       "District    80.962485\n",
       "Name: reading_score, dtype: float64"
      ]
     },
     "execution_count": 60,
     "metadata": {},
     "output_type": "execute_result"
    }
   ],
   "source": [
    "average_reading_type = average_score_by_type['reading_score']\n",
    "average_reading_type"
   ]
  },
  {
   "cell_type": "markdown",
   "metadata": {},
   "source": [
    "## Calculate Total Students relative to School Type"
   ]
  },
  {
   "cell_type": "code",
   "execution_count": 61,
   "metadata": {},
   "outputs": [
    {
     "data": {
      "text/plain": [
       "type\n",
       "Charter     12194\n",
       "District    26976\n",
       "Name: school_name, dtype: int64"
      ]
     },
     "execution_count": 61,
     "metadata": {},
     "output_type": "execute_result"
    }
   ],
   "source": [
    "total_students_type = relevant_school_data.groupby('type').count()['school_name']\n",
    "total_students_type"
   ]
  },
  {
   "cell_type": "markdown",
   "metadata": {},
   "source": [
    "## Calculate Math Percent Passing Rate relative to School Type"
   ]
  },
  {
   "cell_type": "code",
   "execution_count": 62,
   "metadata": {},
   "outputs": [
    {
     "data": {
      "text/plain": [
       "array([93.70182057, 66.51838671])"
      ]
     },
     "execution_count": 62,
     "metadata": {},
     "output_type": "execute_result"
    }
   ],
   "source": [
    "passing_math_type = relevant_school_data[relevant_school_data['math_score'] >= 70].groupby('type').count()['school_name']\n",
    "percent_passing_math_type = passing_math_type.values / total_students_type.values * 100\n",
    "percent_passing_math_type"
   ]
  },
  {
   "cell_type": "markdown",
   "metadata": {},
   "source": [
    "## Calculate Reading percent Passing Rate relative to School Type"
   ]
  },
  {
   "cell_type": "code",
   "execution_count": 63,
   "metadata": {},
   "outputs": [
    {
     "data": {
      "text/plain": [
       "array([96.64589142, 80.90524911])"
      ]
     },
     "execution_count": 63,
     "metadata": {},
     "output_type": "execute_result"
    }
   ],
   "source": [
    "passing_reading_type = relevant_school_data[relevant_school_data['reading_score'] >= 70].groupby('type').count()['school_name']\n",
    "percent_passing_reading_type = passing_reading_type.values / total_students_type.values * 100\n",
    "percent_passing_reading_type"
   ]
  },
  {
   "cell_type": "markdown",
   "metadata": {},
   "source": [
    "## Calculate Overall Passing Rate relative to School Type"
   ]
  },
  {
   "cell_type": "code",
   "execution_count": 64,
   "metadata": {},
   "outputs": [
    {
     "data": {
      "text/plain": [
       "array([95.17385599, 73.71181791])"
      ]
     },
     "execution_count": 64,
     "metadata": {},
     "output_type": "execute_result"
    }
   ],
   "source": [
    "percent_overall_type = (percent_passing_math_type + percent_passing_reading_type) / 2\n",
    "percent_overall_type"
   ]
  },
  {
   "cell_type": "code",
   "execution_count": 65,
   "metadata": {},
   "outputs": [
    {
     "data": {
      "text/html": [
       "<div>\n",
       "<style scoped>\n",
       "    .dataframe tbody tr th:only-of-type {\n",
       "        vertical-align: middle;\n",
       "    }\n",
       "\n",
       "    .dataframe tbody tr th {\n",
       "        vertical-align: top;\n",
       "    }\n",
       "\n",
       "    .dataframe thead th {\n",
       "        text-align: right;\n",
       "    }\n",
       "</style>\n",
       "<table border=\"1\" class=\"dataframe\">\n",
       "  <thead>\n",
       "    <tr style=\"text-align: right;\">\n",
       "      <th></th>\n",
       "      <th>Average Math Score</th>\n",
       "      <th>Average Reading Score</th>\n",
       "      <th>% Passing Math</th>\n",
       "      <th>% Passing Reading</th>\n",
       "      <th>% Overall Passing Rate</th>\n",
       "    </tr>\n",
       "    <tr>\n",
       "      <th>type</th>\n",
       "      <th></th>\n",
       "      <th></th>\n",
       "      <th></th>\n",
       "      <th></th>\n",
       "      <th></th>\n",
       "    </tr>\n",
       "  </thead>\n",
       "  <tbody>\n",
       "    <tr>\n",
       "      <th>Charter</th>\n",
       "      <td>83.406183</td>\n",
       "      <td>83.902821</td>\n",
       "      <td>93.701821</td>\n",
       "      <td>96.645891</td>\n",
       "      <td>95.173856</td>\n",
       "    </tr>\n",
       "    <tr>\n",
       "      <th>District</th>\n",
       "      <td>76.987026</td>\n",
       "      <td>80.962485</td>\n",
       "      <td>66.518387</td>\n",
       "      <td>80.905249</td>\n",
       "      <td>73.711818</td>\n",
       "    </tr>\n",
       "  </tbody>\n",
       "</table>\n",
       "</div>"
      ],
      "text/plain": [
       "          Average Math Score  Average Reading Score  % Passing Math  \\\n",
       "type                                                                  \n",
       "Charter            83.406183              83.902821       93.701821   \n",
       "District           76.987026              80.962485       66.518387   \n",
       "\n",
       "          % Passing Reading  % Overall Passing Rate  \n",
       "type                                                 \n",
       "Charter           96.645891               95.173856  \n",
       "District          80.905249               73.711818  "
      ]
     },
     "execution_count": 65,
     "metadata": {},
     "output_type": "execute_result"
    }
   ],
   "source": [
    "data_by_type = {\n",
    "    'Average Math Score': average_math_type,\n",
    "    'Average Reading Score': average_reading_type,\n",
    "    '% Passing Math': percent_passing_math_type,\n",
    "    '% Passing Reading': percent_passing_reading_type,\n",
    "    '% Overall Passing Rate': percent_overall_type,\n",
    "}\n",
    "\n",
    "data_by_type_df = pd.DataFrame(data_by_type)\n",
    "data_by_type_df.head()"
   ]
  },
  {
   "cell_type": "code",
   "execution_count": null,
   "metadata": {},
   "outputs": [],
   "source": []
  },
  {
   "cell_type": "code",
   "execution_count": null,
   "metadata": {},
   "outputs": [],
   "source": []
  }
 ],
 "metadata": {
  "anaconda-cloud": {},
  "kernel_info": {
   "name": "python3"
  },
  "kernelspec": {
   "display_name": "Python 3",
   "language": "python",
   "name": "python3"
  },
  "language_info": {
   "codemirror_mode": {
    "name": "ipython",
    "version": 3
   },
   "file_extension": ".py",
   "mimetype": "text/x-python",
   "name": "python",
   "nbconvert_exporter": "python",
   "pygments_lexer": "ipython3",
   "version": "3.7.3"
  },
  "nteract": {
   "version": "0.8.4"
  }
 },
 "nbformat": 4,
 "nbformat_minor": 1
}
